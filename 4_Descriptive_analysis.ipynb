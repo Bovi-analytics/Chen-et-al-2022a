{
  "nbformat": 4,
  "nbformat_minor": 0,
  "metadata": {
    "colab": {
      "name": "4. Descriptive analysis.ipynb",
      "provenance": [],
      "collapsed_sections": [],
      "toc_visible": true,
      "authorship_tag": "ABX9TyMhM1uI9lRSLOHHwNT0eAUV",
      "include_colab_link": true
    },
    "kernelspec": {
      "name": "python3",
      "display_name": "Python 3"
    },
    "language_info": {
      "name": "python"
    }
  },
  "cells": [
    {
      "cell_type": "markdown",
      "metadata": {
        "id": "view-in-github",
        "colab_type": "text"
      },
      "source": [
        "<a href=\"https://colab.research.google.com/github/Bovi-analytics/SupplementalFiles-YongyanChen/blob/main/4_Descriptive_analysis.ipynb\" target=\"_parent\"><img src=\"https://colab.research.google.com/assets/colab-badge.svg\" alt=\"Open In Colab\"/></a>"
      ]
    },
    {
      "cell_type": "markdown",
      "metadata": {
        "id": "up2G8zDbhsEN"
      },
      "source": [
        "# Preparation"
      ]
    },
    {
      "cell_type": "code",
      "metadata": {
        "id": "z_TdENL02G2-",
        "colab": {
          "base_uri": "https://localhost:8080/"
        },
        "outputId": "4e50cd28-2208-4ebc-d80f-25bee9ea503a"
      },
      "source": [
        "from google.colab import drive \n",
        "drive.mount('/content/gdrive') "
      ],
      "execution_count": null,
      "outputs": [
        {
          "output_type": "stream",
          "name": "stdout",
          "text": [
            "Mounted at /content/gdrive\n"
          ]
        }
      ]
    },
    {
      "cell_type": "code",
      "source": [
        "!apt-get update"
      ],
      "metadata": {
        "colab": {
          "base_uri": "https://localhost:8080/"
        },
        "id": "b6VU7CcQhcF2",
        "outputId": "ff94ab28-0078-4e63-c330-9f1ac18ce222"
      },
      "execution_count": null,
      "outputs": [
        {
          "output_type": "stream",
          "name": "stdout",
          "text": [
            "\r0% [Working]\r            \rIgn:1 https://developer.download.nvidia.com/compute/cuda/repos/ubuntu1804/x86_64  InRelease\n",
            "\r0% [Connecting to archive.ubuntu.com (91.189.88.142)] [Connecting to security.u\r                                                                               \rIgn:2 https://developer.download.nvidia.com/compute/machine-learning/repos/ubuntu1804/x86_64  InRelease\n",
            "\r0% [Connecting to archive.ubuntu.com (91.189.88.142)] [Connecting to security.u\r                                                                               \rGet:3 https://developer.download.nvidia.com/compute/cuda/repos/ubuntu1804/x86_64  Release [696 B]\n",
            "\r0% [Connecting to archive.ubuntu.com (91.189.88.142)] [Connecting to security.u\r0% [Connecting to archive.ubuntu.com (91.189.88.142)] [Connecting to security.u\r                                                                               \rHit:4 https://developer.download.nvidia.com/compute/machine-learning/repos/ubuntu1804/x86_64  Release\n",
            "\r0% [Connecting to archive.ubuntu.com (91.189.88.142)] [Connecting to security.u\r0% [Release.gpg gpgv 564 B] [Connecting to archive.ubuntu.com (91.189.88.142)] \r                                                                               \rGet:5 https://developer.download.nvidia.com/compute/cuda/repos/ubuntu1804/x86_64  Release.gpg [836 B]\n",
            "Get:6 https://cloud.r-project.org/bin/linux/ubuntu bionic-cran40/ InRelease [3,626 B]\n",
            "Hit:7 http://archive.ubuntu.com/ubuntu bionic InRelease\n",
            "Get:8 http://security.ubuntu.com/ubuntu bionic-security InRelease [88.7 kB]\n",
            "Get:10 http://archive.ubuntu.com/ubuntu bionic-updates InRelease [88.7 kB]\n",
            "Get:11 http://ppa.launchpad.net/c2d4u.team/c2d4u4.0+/ubuntu bionic InRelease [15.9 kB]\n",
            "Get:12 https://developer.download.nvidia.com/compute/cuda/repos/ubuntu1804/x86_64  Packages [834 kB]\n",
            "Hit:13 http://ppa.launchpad.net/cran/libgit2/ubuntu bionic InRelease\n",
            "Get:14 http://archive.ubuntu.com/ubuntu bionic-backports InRelease [74.6 kB]\n",
            "Hit:15 http://ppa.launchpad.net/deadsnakes/ppa/ubuntu bionic InRelease\n",
            "Get:16 http://security.ubuntu.com/ubuntu bionic-security/main amd64 Packages [2,498 kB]\n",
            "Hit:17 http://ppa.launchpad.net/graphics-drivers/ppa/ubuntu bionic InRelease\n",
            "Get:18 http://ppa.launchpad.net/c2d4u.team/c2d4u4.0+/ubuntu bionic/main Sources [1,822 kB]\n",
            "Get:19 http://security.ubuntu.com/ubuntu bionic-security/universe amd64 Packages [1,459 kB]\n",
            "Get:20 http://archive.ubuntu.com/ubuntu bionic-updates/restricted amd64 Packages [758 kB]\n",
            "Get:21 http://security.ubuntu.com/ubuntu bionic-security/restricted amd64 Packages [725 kB]\n",
            "Get:22 http://archive.ubuntu.com/ubuntu bionic-updates/universe amd64 Packages [2,238 kB]\n",
            "Get:23 http://archive.ubuntu.com/ubuntu bionic-updates/main amd64 Packages [2,935 kB]\n",
            "Get:24 http://ppa.launchpad.net/c2d4u.team/c2d4u4.0+/ubuntu bionic/main amd64 Packages [934 kB]\n",
            "Fetched 14.5 MB in 4s (3,723 kB/s)\n",
            "Reading package lists... Done\n"
          ]
        }
      ]
    },
    {
      "cell_type": "code",
      "metadata": {
        "id": "fXmhrWJrSlTa"
      },
      "source": [
        "!apt-get install openjdk-8-jdk-headless -qq > /dev/null\n",
        "!wget -q https://downloads.apache.org/spark/spark-3.2.0/spark-3.2.0-bin-hadoop3.2.tgz\n",
        "!tar xf spark-3.2.0-bin-hadoop3.2.tgz\n",
        "!pip install -q findspark"
      ],
      "execution_count": null,
      "outputs": []
    },
    {
      "cell_type": "code",
      "metadata": {
        "id": "cqsYe1iXSlTa"
      },
      "source": [
        "import os\n",
        "os.environ[\"JAVA_HOME\"] = \"/usr/lib/jvm/java-8-openjdk-amd64\"\n",
        "os.environ[\"SPARK_HOME\"] = \"/content/spark-3.2.0-bin-hadoop3.2\""
      ],
      "execution_count": null,
      "outputs": []
    },
    {
      "cell_type": "code",
      "metadata": {
        "id": "sLgcsWc0QwlT"
      },
      "source": [
        "import findspark\n",
        "findspark.init()\n",
        "from pyspark.sql import SparkSession"
      ],
      "execution_count": null,
      "outputs": []
    },
    {
      "cell_type": "code",
      "metadata": {
        "id": "vTaRa-M0QyMr"
      },
      "source": [
        "spark = SparkSession.builder.master(\"local[*]\").getOrCreate()"
      ],
      "execution_count": null,
      "outputs": []
    },
    {
      "cell_type": "code",
      "metadata": {
        "id": "7jVcbnvoQ40j"
      },
      "source": [
        "from pyspark.sql.types import LongType, StringType, StructField, StructType, BooleanType, ArrayType, IntegerType, DoubleType, FloatType\n",
        "import pyspark\n",
        "from pyspark.sql import functions as F,Window\n",
        "from pyspark.sql.functions import year, col, array, monotonically_increasing_id, to_json, struct, round, datediff,unix_timestamp,udf,avg\n",
        "import json\n",
        "from urllib.request import  urlopen\n",
        "import pyspark.sql.functions as F"
      ],
      "execution_count": null,
      "outputs": []
    },
    {
      "cell_type": "markdown",
      "metadata": {
        "id": "GJE0uesm0mzq"
      },
      "source": [
        "#Mean(sd) for 3 different methods (Table 1)"
      ]
    },
    {
      "cell_type": "markdown",
      "source": [
        "## CalvingYear"
      ],
      "metadata": {
        "id": "Y5j9SpjyMN5W"
      }
    },
    {
      "cell_type": "code",
      "metadata": {
        "id": "iKeLOCGW0wSP"
      },
      "source": [
        "CalvingYear = spark. \\\n",
        "  read. \\\n",
        "  parquet('/content/gdrive/Shared drives/Bovi-Analytics/Projects/ChenYongYan/Data/Tableau/HerdSummaryIn3Method1203/CalvingYear') \\"
      ],
      "execution_count": null,
      "outputs": []
    },
    {
      "cell_type": "code",
      "metadata": {
        "colab": {
          "base_uri": "https://localhost:8080/"
        },
        "id": "nsOTEeuQ1rDJ",
        "outputId": "025a549a-0ee1-4321-9988-59fc880f4e17"
      },
      "source": [
        "CalvingYear.show(3)"
      ],
      "execution_count": null,
      "outputs": [
        {
          "output_type": "stream",
          "text": [
            "+--------------+-----------+-----------+------------------+------------------+--------------------+--------------------+------------------+-----------------+-------------+----------+------------+-----------+-----------------+------------+--------------+\n",
            "|HerdIdentifier|ParityGroup|CalvingYear|       MeanScaleKg|          MeanRamp|          MeanOffset|           MeanDecay|   MeanPersistence|       MeanM305Kg|MedianScaleKg|MedianRamp|MedianOffset|MedianDecay|MedianPersistence|MedianM305Kg|NumberOfAnimal|\n",
            "+--------------+-----------+-----------+------------------+------------------+--------------------+--------------------+------------------+-----------------+-------------+----------+------------+-----------+-----------------+------------+--------------+\n",
            "|           590|          1|       2015| 39.28324324324324| 29.81351351351351|                -0.5|0.001309189189189...| 660.2972972972973|9296.972972972973|        40.34|      30.0|        -0.5|    0.00133|            522.0|      9302.0|            37|\n",
            "|          6471|         2+|       2014| 47.82303797468354|23.643037974683544|-0.19240506329113924|0.003372405063291139|252.29113924050634|8564.949367088608|        48.08|      22.5|         0.0|    0.00319|            217.0|      8593.0|            79|\n",
            "|          7470|          1|       2007|38.451499999999996|29.185000000000002|                -0.5|0.001883999999999...|             417.0|           8343.1|       39.035|     29.05|        -0.5|   0.001755|            395.5|      8602.5|            20|\n",
            "+--------------+-----------+-----------+------------------+------------------+--------------------+--------------------+------------------+-----------------+-------------+----------+------------+-----------+-----------------+------------+--------------+\n",
            "only showing top 3 rows\n",
            "\n"
          ],
          "name": "stdout"
        }
      ]
    },
    {
      "cell_type": "code",
      "metadata": {
        "colab": {
          "base_uri": "https://localhost:8080/"
        },
        "id": "PS8aHR4n7Vd6",
        "outputId": "00f56f46-eaa8-49db-b76a-47fe7160646b"
      },
      "source": [
        "CalvingYear.count()"
      ],
      "execution_count": null,
      "outputs": [
        {
          "output_type": "execute_result",
          "data": {
            "text/plain": [
              "437741"
            ]
          },
          "metadata": {},
          "execution_count": 9
        }
      ]
    },
    {
      "cell_type": "code",
      "metadata": {
        "colab": {
          "base_uri": "https://localhost:8080/"
        },
        "id": "9wQ56EaH1hXi",
        "outputId": "3ebeffa8-670e-4e0b-bad0-1df2cc230929"
      },
      "source": [
        "CalvingYear.\\\n",
        "  filter((col('CalvingYear')>2007)&\\\n",
        "      (col('CalvingYear')<2019)).\\\n",
        "  groupBy('ParityGroup').\\\n",
        "  agg(F.round(F.avg('MeanScaleKg'),2).alias('MeanScale'),\n",
        "    F.round(F.stddev('MeanScaleKg'),2).alias('MeanScaleSd'),\n",
        "    F.round(F.expr('percentile(MeanScaleKg, array(0.25))')[0],2).alias('MeanScaleQ1'),\n",
        "    F.round(F.expr('percentile(MeanScaleKg, array(0.75))')[0],2).alias('MeanScaleQ3'),\n",
        "    F.round(F.avg('MedianScaleKg'),2).alias('MedianScale'),\n",
        "    F.round(F.stddev('MedianScaleKg'),2).alias('MedianScaleSd'),\n",
        "    F.round(F.expr('percentile(MedianScaleKg, array(0.25))')[0],2).alias('MedianScaleQ1'),\n",
        "    F.round(F.expr('percentile(MedianScaleKg, array(0.75))')[0],2).alias('MedianScaleQ3'),\n",
        "\n",
        "    F.round(F.avg('MeanRamp'),2).alias('MeanRamp'),\n",
        "    F.round(F.stddev('MeanRamp'),2).alias('MeanRampSd'),\n",
        "    F.round(F.expr('percentile(MeanRamp, array(0.25))')[0],2).alias('MeanRampQ1'),\n",
        "    F.round(F.expr('percentile(MeanRamp, array(0.75))')[0],2).alias('MeanRampQ3'),\n",
        "    F.round(F.avg('MedianRamp'),2).alias('MedianRamp'),\n",
        "    F.round(F.stddev('MedianRamp'),2).alias('MedianRampSd'),\n",
        "    F.round(F.expr('percentile(MedianRamp, array(0.25))')[0],2).alias('MedianRampQ1'),\n",
        "    F.round(F.expr('percentile(MedianRamp, array(0.75))')[0],2).alias('MedianRampQ3'),\n",
        "\n",
        "\n",
        "    F.round(F.avg('MeanPersistence'),2).alias('MeanPersistence'),\n",
        "    F.round(F.stddev('MeanPersistence'),2).alias('MeanPersistenceSd'),\n",
        "    F.round(F.expr('percentile(MeanPersistence, array(0.25))')[0],2).alias('MeanPersistenceQ1'),\n",
        "    F.round(F.expr('percentile(MeanPersistence, array(0.75))')[0],2).alias('MeanPersistenceQ3'),\n",
        "    F.round(F.avg('MedianPersistence'),2).alias('MedianPersistence'),\n",
        "    F.round(F.stddev('MedianPersistence'),2).alias('MedianPersistenceSd'),\n",
        "    F.round(F.expr('percentile(MedianPersistence, array(0.25))')[0],2).alias('MedianPersistenceQ1'),\n",
        "    F.round(F.expr('percentile(MedianPersistence, array(0.75))')[0],2).alias('MedianPersistenceQ3')\n",
        "    ).\\\n",
        "    orderBy('ParityGroup').show()"
      ],
      "execution_count": null,
      "outputs": [
        {
          "output_type": "stream",
          "name": "stdout",
          "text": [
            "+-----------+---------+-----------+-----------+-----------+-----------+-------------+-------------+-------------+--------+----------+----------+----------+----------+------------+------------+------------+---------------+-----------------+-----------------+-----------------+-----------------+-------------------+-------------------+-------------------+\n",
            "|ParityGroup|MeanScale|MeanScaleSd|MeanScaleQ1|MeanScaleQ3|MedianScale|MedianScaleSd|MedianScaleQ1|MedianScaleQ3|MeanRamp|MeanRampSd|MeanRampQ1|MeanRampQ3|MedianRamp|MedianRampSd|MedianRampQ1|MedianRampQ3|MeanPersistence|MeanPersistenceSd|MeanPersistenceQ1|MeanPersistenceQ3|MedianPersistence|MedianPersistenceSd|MedianPersistenceQ1|MedianPersistenceQ3|\n",
            "+-----------+---------+-----------+-----------+-----------+-----------+-------------+-------------+-------------+--------+----------+----------+----------+----------+------------+------------+------------+---------------+-----------------+-----------------+-----------------+-----------------+-------------------+-------------------+-------------------+\n",
            "|          1|    34.47|       3.96|      31.97|      37.11|      34.33|         4.16|        31.74|        37.11|   29.52|      0.47|     29.28|     29.82|     29.64|        0.43|        29.4|       29.95|         402.11|             89.5|           339.43|           454.43|           365.19|              83.68|              309.0|              405.0|\n",
            "|         2+|    45.96|       5.74|       42.5|      50.07|      45.85|         5.93|        42.35|        49.63|   21.69|      2.21|     20.31|     23.16|     22.05|        1.36|        22.0|        22.5|         271.95|            44.45|           241.28|           295.83|           247.99|              37.71|              224.0|              267.0|\n",
            "+-----------+---------+-----------+-----------+-----------+-----------+-------------+-------------+-------------+--------+----------+----------+----------+----------+------------+------------+------------+---------------+-----------------+-----------------+-----------------+-----------------+-------------------+-------------------+-------------------+\n",
            "\n"
          ]
        }
      ]
    },
    {
      "cell_type": "markdown",
      "source": [
        "## EndYear"
      ],
      "metadata": {
        "id": "8Ttc1oMhMSDd"
      }
    },
    {
      "cell_type": "code",
      "metadata": {
        "id": "6tKICqZz04T_"
      },
      "source": [
        "EndYear = spark. \\\n",
        "  read. \\\n",
        "  parquet('/content/gdrive/Shared drives/Bovi-Analytics/Projects/ChenYongYan/Data/Tableau/HerdSummaryIn3Method1203/EndYear') \\"
      ],
      "execution_count": null,
      "outputs": []
    },
    {
      "cell_type": "code",
      "metadata": {
        "colab": {
          "base_uri": "https://localhost:8080/"
        },
        "id": "XTXM5-Si15Bb",
        "outputId": "9f27148e-d6b3-4d5e-c419-6eb16392035c"
      },
      "source": [
        "EndYear.show(3)"
      ],
      "execution_count": null,
      "outputs": [
        {
          "output_type": "stream",
          "text": [
            "+--------------+-----------+-------+-----------------+------------------+--------------------+--------------------+-----------------+-----------------+-------------+----------+------------+--------------------+-----------------+------------+--------------+\n",
            "|HerdIdentifier|ParityGroup|EndYear|      MeanScaleKg|          MeanRamp|          MeanOffset|           MeanDecay|  MeanPersistence|       MeanM305Kg|MedianScaleKg|MedianRamp|MedianOffset|         MedianDecay|MedianPersistence|MedianM305Kg|NumberOfAnimal|\n",
            "+--------------+-----------+-------+-----------------+------------------+--------------------+--------------------+-----------------+-----------------+-------------+----------+------------+--------------------+-----------------+------------+--------------+\n",
            "|           590|          1|   2015|41.17617647058824|29.732352941176472|                -0.5|0.001485294117647...|542.3823529411765|9511.411764705883|        42.76|      29.9|        -0.5|            0.001495|            464.0|      9661.5|            34|\n",
            "|          6471|         2+|   2014|47.18888888888889|24.613580246913582|-0.40493827160493834|0.002850123456790...|907.1728395061729|9104.098765432098|         47.1|      22.8|        -0.8|             0.00274|            253.0|      9215.0|            81|\n",
            "|          7470|          1|   2007|         33.49875|           29.8875|                -0.5|          0.00172375|          447.875|          7474.75|        32.74|      30.0|        -0.5|0.001700000000000...|            407.0|      7464.5|             8|\n",
            "+--------------+-----------+-------+-----------------+------------------+--------------------+--------------------+-----------------+-----------------+-------------+----------+------------+--------------------+-----------------+------------+--------------+\n",
            "only showing top 3 rows\n",
            "\n"
          ],
          "name": "stdout"
        }
      ]
    },
    {
      "cell_type": "code",
      "metadata": {
        "colab": {
          "base_uri": "https://localhost:8080/"
        },
        "id": "1qRNvs84BflA",
        "outputId": "49838e5f-b7dc-47f4-9ba0-044c36b4d99d"
      },
      "source": [
        "EndYear.count()"
      ],
      "execution_count": null,
      "outputs": [
        {
          "output_type": "execute_result",
          "data": {
            "text/plain": [
              "380309"
            ]
          },
          "metadata": {},
          "execution_count": 29
        }
      ]
    },
    {
      "cell_type": "code",
      "metadata": {
        "colab": {
          "base_uri": "https://localhost:8080/"
        },
        "id": "51vrgzDXBZhW",
        "outputId": "6ee3da14-f4cb-4427-b1e0-bf954946ec56"
      },
      "source": [
        "EndYear.\\\n",
        "  filter((col('EndYear')>2007)&\\\n",
        "      (col('EndYear')<2019)).\\\n",
        "  groupBy('ParityGroup').\\\n",
        "  agg(F.round(F.avg('MeanScaleKg'),2).alias('MeanScale'),\n",
        "    F.round(F.stddev('MeanScaleKg'),2).alias('MeanScaleSd'),\n",
        "    F.round(F.expr('percentile(MeanScaleKg, array(0.25))')[0],2).alias('MeanScaleQ1'),\n",
        "    F.round(F.expr('percentile(MeanScaleKg, array(0.75))')[0],2).alias('MeanScaleQ3'),\n",
        "    F.round(F.avg('MedianScaleKg'),2).alias('MedianScale'),\n",
        "    F.round(F.stddev('MedianScaleKg'),2).alias('MedianScaleSd'),\n",
        "    F.round(F.expr('percentile(MedianScaleKg, array(0.25))')[0],2).alias('MedianScaleQ1'),\n",
        "    F.round(F.expr('percentile(MedianScaleKg, array(0.75))')[0],2).alias('MedianScaleQ3'),\n",
        "\n",
        "    F.round(F.avg('MeanRamp'),2).alias('MeanRamp'),\n",
        "    F.round(F.stddev('MeanRamp'),2).alias('MeanRampSd'),\n",
        "    F.round(F.expr('percentile(MeanRamp, array(0.25))')[0],2).alias('MeanRampQ1'),\n",
        "    F.round(F.expr('percentile(MeanRamp, array(0.75))')[0],2).alias('MeanRampQ3'),\n",
        "    F.round(F.avg('MedianRamp'),2).alias('MedianRamp'),\n",
        "    F.round(F.stddev('MedianRamp'),2).alias('MedianRampSd'),\n",
        "    F.round(F.expr('percentile(MedianRamp, array(0.25))')[0],2).alias('MedianRampQ1'),\n",
        "    F.round(F.expr('percentile(MedianRamp, array(0.75))')[0],2).alias('MedianRampQ3'),\n",
        "\n",
        "\n",
        "    F.round(F.avg('MeanPersistence'),2).alias('MeanPersistence'),\n",
        "    F.round(F.stddev('MeanPersistence'),2).alias('MeanPersistenceSd'),\n",
        "    F.round(F.expr('percentile(MeanPersistence, array(0.25))')[0],2).alias('MeanPersistenceQ1'),\n",
        "    F.round(F.expr('percentile(MeanPersistence, array(0.75))')[0],2).alias('MeanPersistenceQ3'),\n",
        "    F.round(F.avg('MedianPersistence'),2).alias('MedianPersistence'),\n",
        "    F.round(F.stddev('MedianPersistence'),2).alias('MedianPersistenceSd'),\n",
        "    F.round(F.expr('percentile(MedianPersistence, array(0.25))')[0],2).alias('MedianPersistenceQ1'),\n",
        "    F.round(F.expr('percentile(MedianPersistence, array(0.75))')[0],2).alias('MedianPersistenceQ3')\n",
        "    ).\\\n",
        "    orderBy('ParityGroup').show()"
      ],
      "execution_count": null,
      "outputs": [
        {
          "output_type": "stream",
          "name": "stdout",
          "text": [
            "+-----------+---------+-----------+-----------+-----------+-----------+-------------+-------------+-------------+--------+----------+----------+----------+----------+------------+------------+------------+---------------+-----------------+-----------------+-----------------+-----------------+-------------------+-------------------+-------------------+\n",
            "|ParityGroup|MeanScale|MeanScaleSd|MeanScaleQ1|MeanScaleQ3|MedianScale|MedianScaleSd|MedianScaleQ1|MedianScaleQ3|MeanRamp|MeanRampSd|MeanRampQ1|MeanRampQ3|MedianRamp|MedianRampSd|MedianRampQ1|MedianRampQ3|MeanPersistence|MeanPersistenceSd|MeanPersistenceQ1|MeanPersistenceQ3|MedianPersistence|MedianPersistenceSd|MedianPersistenceQ1|MedianPersistenceQ3|\n",
            "+-----------+---------+-----------+-----------+-----------+-----------+-------------+-------------+-------------+--------+----------+----------+----------+----------+------------+------------+------------+---------------+-----------------+-----------------+-----------------+-----------------+-------------------+-------------------+-------------------+\n",
            "|          1|    34.35|       3.88|      31.91|      36.96|       34.2|         4.08|        31.66|        36.96|   29.51|      0.47|     29.27|     29.81|     29.64|        0.42|        29.4|        29.9|         400.32|            87.28|           338.76|           451.77|           363.33|              81.18|              308.0|              402.5|\n",
            "|         2+|    45.87|       5.67|      42.45|      49.92|      45.75|         5.85|        42.28|        49.45|   21.69|      2.18|     20.32|     23.15|     22.05|        1.31|        22.0|        22.5|         270.72|            43.07|           240.62|           294.31|           246.89|              36.15|              223.5|              266.0|\n",
            "+-----------+---------+-----------+-----------+-----------+-----------+-------------+-------------+-------------+--------+----------+----------+----------+----------+------------+------------+------------+---------------+-----------------+-----------------+-----------------+-----------------+-------------------+-------------------+-------------------+\n",
            "\n"
          ]
        }
      ]
    },
    {
      "cell_type": "markdown",
      "source": [
        "##Weighted"
      ],
      "metadata": {
        "id": "7gItWN2yMXGT"
      }
    },
    {
      "cell_type": "code",
      "metadata": {
        "id": "k59Wh1Eh05nL"
      },
      "source": [
        "Weighted = spark. \\\n",
        "  read. \\\n",
        "  parquet('/content/gdrive/Shared drives/Bovi-Analytics/Projects/ChenYongYan/Data/Tableau/HerdSummaryIn3Method1203/Weight/Weighted') \\"
      ],
      "execution_count": null,
      "outputs": []
    },
    {
      "cell_type": "code",
      "metadata": {
        "colab": {
          "base_uri": "https://localhost:8080/"
        },
        "id": "VC1OPrbB17Qz",
        "outputId": "5fc73f3a-3cd4-4c74-a8c7-b2928bb70ce4"
      },
      "source": [
        "Weighted.show(3)"
      ],
      "execution_count": null,
      "outputs": [
        {
          "output_type": "stream",
          "text": [
            "+--------------+--------+-----------+-----------------+------------------+-------------------+--------------------+------------------+------------------+--------------+-----------+-------------+----------+------------+-----------+-----------------+------------+\n",
            "|HerdIdentifier|TestYear|ParityGroup|      MeanScaleKg|          MeanRamp|         MeanOffset|           MeanDecay|   MeanPersistence|        MeanM305Kg|NumberOfAnimal|TotalWeight|MedianScaleKg|MedianRamp|MedianOffset|MedianDecay|MedianPersistence|MedianM305Kg|\n",
            "+--------------+--------+-----------+-----------------+------------------+-------------------+--------------------+------------------+------------------+--------------+-----------+-------------+----------+------------+-----------+-----------------+------------+\n",
            "|        311983|    2017|         2+|56.44454277286139|27.140117994100294|-0.2702064896755163|0.002843447474022...|286.24631268436576|10785.066135434263|           276|       1356|        55.83|      23.6|         0.0|    0.00282|            245.0|     10943.0|\n",
            "|        583082|    2009|         2+|39.19102167182662|17.101238390092877|-0.2972136222910216|0.002282631578947...|365.41486068111453| 8282.699690402476|            63|        323|        38.62|      20.4|         0.0|     0.0022|            315.0|      8257.0|\n",
            "|        661982|    2008|         2+|52.67617886178859| 22.26449864498645|-0.2623306233062331|0.003099945799457...|  237.710027100271| 9813.468834688347|            60|        369|        54.34|      22.4|         0.0|    0.00292|            237.0|     10188.0|\n",
            "+--------------+--------+-----------+-----------------+------------------+-------------------+--------------------+------------------+------------------+--------------+-----------+-------------+----------+------------+-----------+-----------------+------------+\n",
            "only showing top 3 rows\n",
            "\n"
          ],
          "name": "stdout"
        }
      ]
    },
    {
      "cell_type": "code",
      "metadata": {
        "colab": {
          "base_uri": "https://localhost:8080/"
        },
        "id": "M6hlr6JEBidz",
        "outputId": "cc37520e-9d91-423f-bc36-39eb27f772a1"
      },
      "source": [
        "Weighted.count()"
      ],
      "execution_count": null,
      "outputs": [
        {
          "output_type": "execute_result",
          "data": {
            "text/plain": [
              "380607"
            ]
          },
          "metadata": {},
          "execution_count": 33
        }
      ]
    },
    {
      "cell_type": "code",
      "metadata": {
        "colab": {
          "base_uri": "https://localhost:8080/"
        },
        "id": "lcC5GFMfBcUa",
        "outputId": "cf795145-1be4-4886-a3f6-2f5b22c5655b"
      },
      "source": [
        "Weighted.\\\n",
        "  filter((col('TestYear')>2007)&\\\n",
        "      (col('TestYear')<2019)).\\\n",
        "  groupBy('ParityGroup').\\\n",
        "  agg(F.round(F.avg('MeanScaleKg'),2).alias('MeanScale'),\n",
        "    F.round(F.stddev('MeanScaleKg'),2).alias('MeanScaleSd'),\n",
        "    F.round(F.expr('percentile(MeanScaleKg, array(0.25))')[0],2).alias('MeanScaleQ1'),\n",
        "    F.round(F.expr('percentile(MeanScaleKg, array(0.75))')[0],2).alias('MeanScaleQ3'),\n",
        "    F.round(F.avg('MedianScaleKg'),2).alias('MedianScale'),\n",
        "    F.round(F.stddev('MedianScaleKg'),2).alias('MedianScaleSd'),\n",
        "    F.round(F.expr('percentile(MedianScaleKg, array(0.25))')[0],2).alias('MedianScaleQ1'),\n",
        "    F.round(F.expr('percentile(MedianScaleKg, array(0.75))')[0],2).alias('MedianScaleQ3'),\n",
        "\n",
        "    F.round(F.avg('MeanRamp'),2).alias('MeanRamp'),\n",
        "    F.round(F.stddev('MeanRamp'),2).alias('MeanRampSd'),\n",
        "    F.round(F.expr('percentile(MeanRamp, array(0.25))')[0],2).alias('MeanRampQ1'),\n",
        "    F.round(F.expr('percentile(MeanRamp, array(0.75))')[0],2).alias('MeanRampQ3'),\n",
        "    F.round(F.avg('MedianRamp'),2).alias('MedianRamp'),\n",
        "    F.round(F.stddev('MedianRamp'),2).alias('MedianRampSd'),\n",
        "    F.round(F.expr('percentile(MedianRamp, array(0.25))')[0],2).alias('MedianRampQ1'),\n",
        "    F.round(F.expr('percentile(MedianRamp, array(0.75))')[0],2).alias('MedianRampQ3'),\n",
        "\n",
        "\n",
        "    F.round(F.avg('MeanPersistence'),2).alias('MeanPersistence'),\n",
        "    F.round(F.stddev('MeanPersistence'),2).alias('MeanPersistenceSd'),\n",
        "    F.round(F.expr('percentile(MeanPersistence, array(0.25))')[0],2).alias('MeanPersistenceQ1'),\n",
        "    F.round(F.expr('percentile(MeanPersistence, array(0.75))')[0],2).alias('MeanPersistenceQ3'),\n",
        "    F.round(F.avg('MedianPersistence'),2).alias('MedianPersistence'),\n",
        "    F.round(F.stddev('MedianPersistence'),2).alias('MedianPersistenceSd'),\n",
        "    F.round(F.expr('percentile(MedianPersistence, array(0.25))')[0],2).alias('MedianPersistenceQ1'),\n",
        "    F.round(F.expr('percentile(MedianPersistence, array(0.75))')[0],2).alias('MedianPersistenceQ3')\n",
        "\n",
        "    ).\\\n",
        "    orderBy('ParityGroup').show()"
      ],
      "execution_count": null,
      "outputs": [
        {
          "output_type": "stream",
          "name": "stdout",
          "text": [
            "+-----------+---------+-----------+-----------+-----------+-----------+-------------+-------------+-------------+--------+----------+----------+----------+----------+------------+------------+------------+---------------+-----------------+-----------------+-----------------+-----------------+-------------------+-------------------+-------------------+\n",
            "|ParityGroup|MeanScale|MeanScaleSd|MeanScaleQ1|MeanScaleQ3|MedianScale|MedianScaleSd|MedianScaleQ1|MedianScaleQ3|MeanRamp|MeanRampSd|MeanRampQ1|MeanRampQ3|MedianRamp|MedianRampSd|MedianRampQ1|MedianRampQ3|MeanPersistence|MeanPersistenceSd|MeanPersistenceQ1|MeanPersistenceQ3|MedianPersistence|MedianPersistenceSd|MedianPersistenceQ1|MedianPersistenceQ3|\n",
            "+-----------+---------+-----------+-----------+-----------+-----------+-------------+-------------+-------------+--------+----------+----------+----------+----------+------------+------------+------------+---------------+-----------------+-----------------+-----------------+-----------------+-------------------+-------------------+-------------------+\n",
            "|          1|    34.45|       3.89|      32.01|      37.06|      34.32|         4.08|        31.82|        37.07|   29.46|      0.48|      29.2|     29.76|     29.59|        0.44|        29.4|        29.9|         413.09|            86.38|           351.86|           465.43|           372.82|              82.25|              316.0|              417.0|\n",
            "|         2+|    46.11|       5.71|      42.69|      50.21|      45.94|         5.85|        42.53|        49.82|   21.69|      2.19|     20.28|      23.2|     22.03|        1.25|        21.9|        22.5|         279.13|            44.69|           247.56|           304.07|           255.02|              38.76|              229.0|              277.0|\n",
            "+-----------+---------+-----------+-----------+-----------+-----------+-------------+-------------+-------------+--------+----------+----------+----------+----------+------------+------------+------------+---------------+-----------------+-----------------+-----------------+-----------------+-------------------+-------------------+-------------------+\n",
            "\n"
          ]
        }
      ]
    },
    {
      "cell_type": "markdown",
      "metadata": {
        "id": "NVxxi1J8nZvn"
      },
      "source": [
        "# Evolution trends"
      ]
    },
    {
      "cell_type": "markdown",
      "metadata": {
        "id": "ga73bGEsnmK1"
      },
      "source": [
        "## Calving year"
      ]
    },
    {
      "cell_type": "code",
      "metadata": {
        "id": "hXfkTH9ensXX"
      },
      "source": [
        "CalvingYearPerParityGroup = spark. \\\n",
        "  read. \\\n",
        "  parquet('/content/gdrive/Shared drives/Bovi-Analytics/Projects/ChenYongYan/Data/Tableau/HerdSummaryIn3Method1203/CalvingYear') \\"
      ],
      "execution_count": null,
      "outputs": []
    },
    {
      "cell_type": "code",
      "metadata": {
        "colab": {
          "base_uri": "https://localhost:8080/"
        },
        "id": "ENZ6Xg2YT6X3",
        "outputId": "b81cbead-a9a4-4e7d-c0b0-905f8abeafd7"
      },
      "source": [
        "CalvingYearPerParityGroup.count()"
      ],
      "execution_count": null,
      "outputs": [
        {
          "output_type": "execute_result",
          "data": {
            "text/plain": [
              "437741"
            ]
          },
          "metadata": {},
          "execution_count": 11
        }
      ]
    },
    {
      "cell_type": "code",
      "metadata": {
        "colab": {
          "base_uri": "https://localhost:8080/"
        },
        "id": "Q5evABlMq786",
        "outputId": "94bc129a-f4ca-47c1-ab4a-19c98cb30065"
      },
      "source": [
        "CalvingYearPerParityGroup.show(3)"
      ],
      "execution_count": null,
      "outputs": [
        {
          "output_type": "stream",
          "name": "stdout",
          "text": [
            "+--------------+-----------+-----------+------------------+------------------+--------------------+--------------------+-----------------+------------------+-------------+----------+------------+--------------------+-----------------+------------+--------------+\n",
            "|HerdIdentifier|ParityGroup|CalvingYear|       MeanScaleKg|          MeanRamp|          MeanOffset|           MeanDecay|  MeanPersistence|        MeanM305Kg|MedianScaleKg|MedianRamp|MedianOffset|         MedianDecay|MedianPersistence|MedianM305Kg|NumberOfAnimal|\n",
            "+--------------+-----------+-----------+------------------+------------------+--------------------+--------------------+-----------------+------------------+-------------+----------+------------+--------------------+-----------------+------------+--------------+\n",
            "|           590|          1|       2015|40.052121212121214|29.745454545454542|                -0.5|0.001411515151515...|558.1818181818181| 9350.818181818182|        40.98|      30.0|        -0.5|             0.00135|            513.0|      9542.0|            33|\n",
            "|           590|         2+|       2016|51.012068965517244|24.167241379310347|-0.38620689655172413|0.002337758620689...|348.1896551724138|10560.448275862069|       51.385|     22.55|         0.0|0.002185000000000...|            317.5|     10667.5|            58|\n",
            "|           870|          1|       2010|33.278857142857134|29.765714285714285|                -0.5|0.001684571428571...|465.6857142857143|            7437.8|        32.43|      30.0|        -0.5|             0.00168|            411.0|      7567.0|            35|\n",
            "+--------------+-----------+-----------+------------------+------------------+--------------------+--------------------+-----------------+------------------+-------------+----------+------------+--------------------+-----------------+------------+--------------+\n",
            "only showing top 3 rows\n",
            "\n"
          ]
        }
      ]
    },
    {
      "cell_type": "code",
      "metadata": {
        "colab": {
          "base_uri": "https://localhost:8080/"
        },
        "id": "7eshVrD3n1_2",
        "outputId": "bd723b87-2777-4638-85b6-137a9ce1d202"
      },
      "source": [
        "CalvingYearPerParityGroup.describe(['CalvingYear']).show()"
      ],
      "execution_count": null,
      "outputs": [
        {
          "output_type": "stream",
          "name": "stdout",
          "text": [
            "+-------+------------------+\n",
            "|summary|       CalvingYear|\n",
            "+-------+------------------+\n",
            "|  count|            437741|\n",
            "|   mean|2011.8596316086453|\n",
            "| stddev| 4.181104289471681|\n",
            "|    min|              2005|\n",
            "|    max|              2019|\n",
            "+-------+------------------+\n",
            "\n"
          ]
        }
      ]
    },
    {
      "cell_type": "code",
      "source": [
        "CalvingYearPerParityGroup.\\\n",
        "  filter((col('CalvingYear')>2007)&\\\n",
        "      (col('CalvingYear')<2019)).\\\n",
        "  groupby('ParityGroup','CalvingYear').\\\n",
        "  agg(F.countDistinct('HerdIdentifier').alias('NumberOfHerd'),\n",
        "    F.avg('MeanScaleKg').alias('AverageMeanScale'),\n",
        "    F.stddev('MeanScaleKg').alias('SDMeanScale'),\n",
        "    F.avg('MedianScaleKg').alias('AverageMedianScale'),\n",
        "    F.stddev('MedianScaleKg').alias('SDMedianScale'),\n",
        "    F.avg('MeanRamp').alias('AverageMeanRamp'),\n",
        "    F.stddev('MeanRamp').alias('SDMeanRamp'),\n",
        "    F.avg('MedianRamp').alias('AverageMedianRamp'),\n",
        "    F.stddev('MedianRamp').alias('SDMedianRamp'),\n",
        "    F.avg('MeanPersistence').alias('AverageMeanPersistence'),\n",
        "    F.stddev('MeanPersistence').alias('SDMeanPersistence'),\n",
        "    F.avg('MedianPersistence').alias('AverageMedianPersistence'),\n",
        "    F.stddev('MedianPersistence').alias('SDMedianPersistence')).\\\n",
        "  orderBy('ParityGroup','CalvingYear').\\\n",
        "  show(30)"
      ],
      "metadata": {
        "colab": {
          "base_uri": "https://localhost:8080/"
        },
        "id": "5RIzgIsbnJes",
        "outputId": "edf24337-8b8e-4737-dc6a-f7b7f768b39b"
      },
      "execution_count": null,
      "outputs": [
        {
          "output_type": "stream",
          "name": "stdout",
          "text": [
            "+-----------+-----------+------------+------------------+------------------+------------------+------------------+------------------+-------------------+------------------+-------------------+----------------------+------------------+------------------------+-------------------+\n",
            "|ParityGroup|CalvingYear|NumberOfHerd|  AverageMeanScale|       SDMeanScale|AverageMedianScale|     SDMedianScale|   AverageMeanRamp|         SDMeanRamp| AverageMedianRamp|       SDMedianRamp|AverageMeanPersistence| SDMeanPersistence|AverageMedianPersistence|SDMedianPersistence|\n",
            "+-----------+-----------+------------+------------------+------------------+------------------+------------------+------------------+-------------------+------------------+-------------------+----------------------+------------------+------------------------+-------------------+\n",
            "|          1|       2008|       16442| 34.11908250473207|3.9187511738990097|  33.9853357255805| 4.122953977556861|29.517986913093566|0.48428763593533586|29.633441795401996|0.44263255298264004|     393.5544834635957|  85.3058767562514|      359.79360783359687|  79.84292421105053|\n",
            "|          1|       2009|       16085|34.255635899224515| 3.937960518027534| 34.11576157911071| 4.147447622416991| 29.46583226407095| 0.4982436488534755|29.592070251787383|0.45353114958548896|     405.4254366954497| 90.39002734087896|       369.1183400683867|  85.26946731427772|\n",
            "|          1|       2010|       15706|34.644330974968454| 3.929834597780788|  34.5134986629311| 4.132294890645914|29.532021611265048| 0.4831877771862572|29.652104291353638|0.43722140468252524|    398.40113587276375| 86.06734835695354|      363.39656819050043|  80.34417120653912|\n",
            "|          1|       2011|       15284| 34.48178340953796|  3.85253777667766|34.343200732792226| 4.062990043789608|29.532699223615566| 0.4882248423191629|29.649538733315843|0.44266279853572216|    387.49434995951185| 83.95070710285732|       353.7356385762889|  77.72493855425226|\n",
            "|          1|       2012|       14948|33.980288159357315|3.8910159501559343| 33.80866269735051| 4.119520430356382|29.445455522550446|0.47643315800651737| 29.57197952903402|0.43498347007332383|     388.6137539369543| 87.44498339964795|      352.93075996788866|  81.76313246510043|\n",
            "|          1|       2013|       14766|  34.2656372133024|3.8914427488759245| 34.15446397128509| 4.104082227909933| 29.54756681403479|0.46204043242436016|29.661374102668333| 0.4182229203075357|    393.09974420532444| 86.00662832280794|      357.67787484762295|    79.874066584937|\n",
            "|          1|       2014|       14669|33.869886793766504|3.8501016139419346| 33.71104233417378| 4.046277777259469| 29.50839266134377|0.48002674047266897|29.625332333492437|0.43752996740828903|    403.48109107802225| 92.45570422994152|       364.4108323675779|  87.59698328920989|\n",
            "|          1|       2015|       14523|34.518872842384646|3.8532583294020224| 34.40636542036747| 4.043239514911575| 29.58965655763533| 0.4478251081883041| 29.69633340218968| 0.4012266220082347|     396.5805523761748| 85.54626108746709|       360.0029952489155|  79.00451315416444|\n",
            "|          1|       2016|       14329|  34.2291231278379|3.8775954782898525| 34.05570556214642| 4.076814651266276|29.521633218432985| 0.4538258600228926|29.647421313420345|0.40655332961628565|    416.75551962752905| 93.83868330852627|      374.17750715332545|  88.92440643637205|\n",
            "|          1|       2017|       13762| 35.24945820480741| 4.038086465875192|35.113459162912065| 4.222012957423899|  29.5586841834374| 0.4543020561858923|29.671414038657215| 0.4047524238155112|    420.10132604105087| 91.97312318378441|       380.7984667926174|  85.98920977191578|\n",
            "|          1|       2018|       13026| 35.75709454017076|  4.13737963172105| 35.62916436358024| 4.323893378039334|29.539236815823738|0.46704028895592486|29.662958697988575|0.42041543952059385|    425.62320647700255|  93.2378201864534|       385.5606095501305|  88.10728689355712|\n",
            "|         2+|       2008|       16505| 45.53728312174433| 5.618241872263894| 45.43221387458292| 5.780048021371795|21.693238218085817|  2.284573461077472| 22.01364132081184| 1.5029341184528973|     264.8923204108798| 42.38818758429364|      242.97243259618298|  36.82576741840407|\n",
            "|         2+|       2009|       16162| 45.68647389804718| 5.683432223535152| 45.55697345625515| 5.857777732835611| 21.45817634233911| 2.2580292680312897|21.920965845811157| 1.5279198974798087|     270.2530634663711|43.570150230823685|      246.76556119292167|  36.85430823328865|\n",
            "|         2+|       2010|       15778|46.225107005192626| 5.666304360535668| 46.09625903156273| 5.847860444323027|21.766773462726537|  2.199988425925523|22.081518570160945| 1.3078035957209326|    265.80118080953815|42.026765705391114|      243.16919127899607|  35.04513980263986|\n",
            "|         2+|       2011|       15348|46.146976970012254| 5.731519788575531|46.026789809746965| 5.935159894022326|21.845847385427138|  2.235717414183514|22.096253583528778| 1.3191045401007453|     263.8590321785376| 41.45647040721736|       241.7518243419338|  35.19435949009156|\n",
            "|         2+|       2012|       15021| 45.28846702474476|   5.7162151458937| 45.15814759336915| 5.929216047803473|21.326220170322372| 2.2186810041290044|21.913278077358292| 1.4387446950153493|    264.70008213386757|  43.3081452161461|      241.38712469209773| 36.454184687349674|\n",
            "|         2+|       2013|       14833| 45.69864548005339|5.6826117632009545| 45.60192543652659|5.8745048040031005|21.786983951398803|   2.24696885879899|22.084059192341297| 1.4037685806988647|      268.432582503292| 43.41240796954717|      245.87804220319558|  37.33762479519718|\n",
            "|         2+|       2014|       14711| 45.19714167921199| 5.725962388193213|45.053379783835204| 5.944402050507634|21.502536537297757|  2.268743626833929|21.969288287675802| 1.4731618868355045|    274.23577118098956|45.689866453772744|       248.1431241927809|  38.20892857846643|\n",
            "|         2+|       2015|       14547|46.274896831238394|5.6802426603188065| 46.18079019729124| 5.848777172512219|21.991459681293936|  2.205168597722932| 22.17795421736435|  1.274640404789785|     271.6928888631588| 42.53857097754083|      248.96861895923558|  36.68790397190843|\n",
            "|         2+|       2016|       14365| 45.42424289172106| 5.680007448475436| 45.27579359554469|5.8960781743341295|21.631729277517067| 2.0642832243182903| 22.08210581273921|  1.203678277238731|     284.1993877373311| 49.25491067781868|      255.26474068917508| 42.015721878026866|\n",
            "|         2+|       2017|       13800| 46.99504839922032| 5.689200777356971|46.899362681159296| 5.840443900979494| 21.77661822970923| 2.0585169909898737|22.134565217391227|   1.14643782613905|      282.864804711372| 43.33311784969645|      257.74510869565216|  36.89832107638743|\n",
            "|         2+|       2018|       13071| 47.39569012020873|5.8934570313064105| 47.31251357968017|  6.08721660670416|21.798628915109653|  2.123904008156063|22.083627878509645| 1.2493089556089536|    284.94648544395415| 44.85920751475398|      259.40345038635144|  38.03701752165156|\n",
            "+-----------+-----------+------------+------------------+------------------+------------------+------------------+------------------+-------------------+------------------+-------------------+----------------------+------------------+------------------------+-------------------+\n",
            "\n"
          ]
        }
      ]
    },
    {
      "cell_type": "markdown",
      "metadata": {
        "id": "wF5mARIEKGbh"
      },
      "source": [
        "## End year"
      ]
    },
    {
      "cell_type": "code",
      "metadata": {
        "id": "eAGYf8UJKGbi"
      },
      "source": [
        "EndYearPerParityGroup = spark. \\\n",
        "  read. \\\n",
        "  parquet('/content/gdrive/Shared drives/Bovi-Analytics/Projects/ChenYongYan/Data/Tableau/HerdSummaryIn3Method1203/EndYear')"
      ],
      "execution_count": null,
      "outputs": []
    },
    {
      "cell_type": "code",
      "metadata": {
        "colab": {
          "base_uri": "https://localhost:8080/"
        },
        "outputId": "239b91dd-c135-4c29-b0ce-502d159aa496",
        "id": "WAO6wvV0O9Ke"
      },
      "source": [
        "EndYearPerParityGroup.count()"
      ],
      "execution_count": null,
      "outputs": [
        {
          "output_type": "execute_result",
          "data": {
            "text/plain": [
              "380309"
            ]
          },
          "metadata": {},
          "execution_count": 18
        }
      ]
    },
    {
      "cell_type": "code",
      "metadata": {
        "colab": {
          "base_uri": "https://localhost:8080/"
        },
        "id": "UgOEtpfULxtG",
        "outputId": "e89d448e-0e25-4d5d-c8bd-20e3327c83c6"
      },
      "source": [
        "EndYearPerParityGroup.show(3)"
      ],
      "execution_count": null,
      "outputs": [
        {
          "output_type": "stream",
          "name": "stdout",
          "text": [
            "+--------------+-----------+-------+-----------------+------------------+-------------------+--------------------+-----------------+------------------+-------------+----------+------------+-----------+-----------------+------------+--------------+\n",
            "|HerdIdentifier|ParityGroup|EndYear|      MeanScaleKg|          MeanRamp|         MeanOffset|           MeanDecay|  MeanPersistence|        MeanM305Kg|MedianScaleKg|MedianRamp|MedianOffset|MedianDecay|MedianPersistence|MedianM305Kg|NumberOfAnimal|\n",
            "+--------------+-----------+-------+-----------------+------------------+-------------------+--------------------+-----------------+------------------+-------------+----------+------------+-----------+-----------------+------------+--------------+\n",
            "|           590|          1|   2015|41.17617647058824|29.732352941176472|               -0.5|0.001485294117647...|542.3823529411765| 9511.411764705883|        42.76|      29.9|        -0.5|   0.001495|            464.0|      9661.5|            34|\n",
            "|           590|         2+|   2016|53.55061224489796|24.183673469387756|-0.2775510204081633|0.002384489795918367|341.0408163265306|11013.387755102041|        54.37|      22.5|         0.0|    0.00235|            295.0|     11247.0|            49|\n",
            "|           870|          1|   2010|34.59740740740741| 30.20740740740741|               -0.5|0.001872222222222...|402.5925925925926| 7526.555555555556|        34.98|      30.1|        -0.5|    0.00189|            366.0|      7704.0|            27|\n",
            "+--------------+-----------+-------+-----------------+------------------+-------------------+--------------------+-----------------+------------------+-------------+----------+------------+-----------+-----------------+------------+--------------+\n",
            "only showing top 3 rows\n",
            "\n"
          ]
        }
      ]
    },
    {
      "cell_type": "code",
      "metadata": {
        "colab": {
          "base_uri": "https://localhost:8080/"
        },
        "outputId": "49b2bc3c-a21d-4fe1-ff63-9eb3e14009ac",
        "id": "glOFX2BZPVVm"
      },
      "source": [
        "EndYearPerParityGroup.describe(['EndYear']).show()"
      ],
      "execution_count": null,
      "outputs": [
        {
          "output_type": "stream",
          "name": "stdout",
          "text": [
            "+-------+------------------+\n",
            "|summary|           EndYear|\n",
            "+-------+------------------+\n",
            "|  count|            380309|\n",
            "|   mean|2012.7280632327922|\n",
            "| stddev|3.7198438104729363|\n",
            "|    min|              2007|\n",
            "|    max|              2019|\n",
            "+-------+------------------+\n",
            "\n"
          ]
        }
      ]
    },
    {
      "cell_type": "code",
      "source": [
        "EndYearPerParityGroup.\\\n",
        "  filter((col('EndYear')>2007)&\\\n",
        "      (col('EndYear')<2019)).\\\n",
        "  groupby('ParityGroup','EndYear').\\\n",
        "  agg(F.countDistinct('HerdIdentifier').alias('NumberOfHerd'),\n",
        "    F.avg('MeanScaleKg').alias('AverageMeanScale'),\n",
        "    F.stddev('MeanScaleKg').alias('SDMeanScale'),\n",
        "    F.avg('MedianScaleKg').alias('AverageMedianScale'),\n",
        "    F.stddev('MedianScaleKg').alias('SDMedianScale'),\n",
        "    F.avg('MeanRamp').alias('AverageMeanRamp'),\n",
        "    F.stddev('MeanRamp').alias('SDMeanRamp'),\n",
        "    F.avg('MedianRamp').alias('AverageMedianRamp'),\n",
        "    F.stddev('MedianRamp').alias('SDMedianRamp'),\n",
        "    F.avg('MeanPersistence').alias('AverageMeanPersistence'),\n",
        "    F.stddev('MeanPersistence').alias('SDMeanPersistence'),\n",
        "    F.avg('MedianPersistence').alias('AverageMedianPersistence'),\n",
        "    F.stddev('MedianPersistence').alias('SDMedianPersistence')).\\\n",
        "  orderBy('ParityGroup','EndYear').\\\n",
        "  show(30)"
      ],
      "metadata": {
        "colab": {
          "base_uri": "https://localhost:8080/"
        },
        "id": "kknads4kPQaD",
        "outputId": "1c1b4771-322f-4b19-f6b3-ab7c03eee2aa"
      },
      "execution_count": null,
      "outputs": [
        {
          "output_type": "stream",
          "name": "stdout",
          "text": [
            "+-----------+-------+------------+------------------+------------------+------------------+------------------+------------------+-------------------+------------------+-------------------+----------------------+------------------+------------------------+-------------------+\n",
            "|ParityGroup|EndYear|NumberOfHerd|  AverageMeanScale|       SDMeanScale|AverageMedianScale|     SDMedianScale|   AverageMeanRamp|         SDMeanRamp| AverageMedianRamp|       SDMedianRamp|AverageMeanPersistence| SDMeanPersistence|AverageMedianPersistence|SDMedianPersistence|\n",
            "+-----------+-------+------------+------------------+------------------+------------------+------------------+------------------+-------------------+------------------+-------------------+----------------------+------------------+------------------------+-------------------+\n",
            "|          1|   2008|       16181| 33.89999896757814|3.8438095698400243| 33.76588375254892|4.0533265006396055| 29.48098332900941| 0.4974323357176201|29.621821889870812| 0.4497496000685729|    396.07712873314455|  86.5416475136612|       361.2369445646128|  80.81236012965024|\n",
            "|          1|   2009|       15853| 34.21005196569516| 3.858193166899955|34.061036081498514| 4.063611988051689|29.512907689578558|0.47075460440680295| 29.63250804264176| 0.4258724017387606|    392.05717359513557| 82.66196930362281|      357.64855232448116|  77.02395640259526|\n",
            "|          1|   2010|       15470| 34.30205602941721| 3.876861518123488| 34.14951712992855| 4.078769504307825| 29.46141845036981|0.48801140620469724| 29.59461861667748| 0.4460491260624795|     406.5120884756496| 87.44254414864758|       370.0384938590821|  82.00092368596721|\n",
            "|          1|   2011|       15096|34.654528031358396|3.8844460973640023| 34.51521826974003| 4.090829110249099| 29.52954663005109| 0.4714281417741493|29.653090222575475|0.42437791044335216|    398.26525852048997| 85.03901063770982|       362.2940182829889|    79.391426440386|\n",
            "|          1|   2012|       14769| 34.47558077672256| 3.836591380933459| 34.32552237795356| 4.053201986884274|29.522265595417103|0.48026298843833576|29.643462658270753|0.42951770992626853|     389.1526475833533| 83.94734319550037|       354.3141715755975|  78.11699113613946|\n",
            "|          1|   2013|       14525|33.970794000934326|3.8313936555258326| 33.80942340791711| 4.051846474859048| 29.45476627470102|0.47149391221652687|29.579848537005198|0.43030644569434523|    388.59251739429396| 83.95239302052997|       352.7430981067126|  77.37582674063552|\n",
            "|          1|   2014|       14409| 34.28859459366339| 3.835226972606881| 34.18096363383956| 4.044733828207085|29.537198164894125|0.45615540954621914| 29.65555208550218| 0.4117383208221144|    393.78780982841306|  86.3557067480842|       357.5704073842737|   80.1802724996598|\n",
            "|          1|   2015|       14284| 33.91447993702978| 3.819208447042383| 33.77039904788545| 4.025118724723787|29.516812278312415|0.47302431450267823| 29.63308947073652| 0.4307134673924611|    403.72159843042107| 88.94048369399471|      364.87079949593954|  82.85679512838816|\n",
            "|          1|   2016|       14177|34.582324679216825|3.8061912808079703|34.455447203216174| 3.993730087653805| 29.58563234771916| 0.4334092137800882|29.691796571912214|0.38840560286728476|    393.66460192717096| 84.52657663501955|       356.2078366368061|  77.92629170210601|\n",
            "|          1|   2017|       13665|34.279046094832445|3.8307580399316166|34.094949506037054| 4.027060217794482|29.508759491795296|0.44736031140590293|29.641628247347224|0.39680619634438485|    423.76456921578057| 91.15885327155154|       380.9267471642883|  85.62535905406496|\n",
            "|          1|   2018|       13050| 35.42958335917621| 4.053107253378185|35.258295402298586| 4.235099690554629|29.560783495271046|0.45071676830456997|29.673471264367848|   0.40427591870863|     422.4617911724504| 91.89012351424999|       382.0667816091954|  86.29853645141843|\n",
            "|         2+|   2008|       16212| 45.36516227369227| 5.626883824710593| 45.26266438440629| 5.821087331884671|21.714225710113606|  2.246802329919784|22.015639649642193| 1.3891544149953519|      267.092897325179|42.587520253194405|      244.27195904268444| 36.023685339075534|\n",
            "|         2+|   2009|       15885|45.678760238212675| 5.574885132464615|45.560373622914256| 5.726697702045101| 21.63892800686003|   2.21876610160075| 22.00662574756055|  1.402466958482151|    264.40774518363446| 41.11589275930227|      242.41712307208059|  35.04769849632747|\n",
            "|         2+|   2010|       15509| 45.80791864302191| 5.625297122671084| 45.67839705977147| 5.803665347665048|21.474651746889222| 2.2145383938782093|21.935611580372644| 1.4396099809856946|    270.39896924362733|42.142858712878095|      246.80156683216197|  35.41702902274425|\n",
            "|         2+|   2011|       15129| 46.30591464479321|5.6395507284635125| 46.17496562892416|5.8132997441553895| 21.78979298722863| 2.1869528860263303|22.071663692246563| 1.2789530858583877|     266.5487806954961|41.693099228867425|      243.45363209729658|  34.74742163974963|\n",
            "|         2+|   2012|       14791|46.152163264890966| 5.690573269950426|  46.0394733283752| 5.877800971692396|  21.8422024093346|  2.190755735155034|22.094983435873107| 1.2757620525800883|     263.2273572243249|40.275474569976296|       241.1664525725103|   34.3827088657908|\n",
            "|         2+|   2013|       14550| 45.26234797814892| 5.658818274381228|45.150156013745594| 5.864409814352576|21.388981926414694| 2.1671525572281376|21.951268041237086|  1.360883609982945|    265.46330856197574|41.613758952235116|      242.10168384879725| 34.406387371752594|\n",
            "|         2+|   2014|       14432| 45.75930748706545| 5.624557677568834|45.659299126939864| 5.814297812499243|21.748770471994362| 2.2023674582620454|22.081298503325858| 1.3049256233777558|      267.730906510444| 41.47906528242341|      244.89838553215077| 35.211397907616146|\n",
            "|         2+|   2015|       14301| 45.35615335409644| 5.704857853144977|45.198612334801666| 5.918922849799029|21.611245071992112| 2.2327278611779615|22.011250961471138| 1.3718272924463373|    275.30050094855306| 44.71738124602022|      249.60086707223272|  37.05407714158551|\n",
            "|         2+|   2016|       14193|46.200964410529004| 5.620336206761621| 46.12546360882106| 5.804374865286125|21.929361768879065| 2.1212765113251164| 22.16505671810039| 1.1701702285653153|    269.91058731712917| 41.29215249126337|      246.69340519974637|  35.04232483018806|\n",
            "|         2+|   2017|       13692| 45.68434118459607|  5.60297049979684| 45.53443835816535| 5.805727017582381|21.608367308723665| 2.0170800525074157|22.075157026000504| 1.1624910212592479|    286.97284088403933| 46.33115041927755|       258.1353345018989|  38.23038286583358|\n",
            "|         2+|   2018|       13067| 47.18737604015357| 5.716643011029658| 47.06180454580225|5.8672111615777345|21.814130701429434| 2.0695539918254946|22.133913675671483| 1.1428436734385097|    284.56816015976176| 43.61935843293498|      259.09562256064896|  37.26446390513399|\n",
            "+-----------+-------+------------+------------------+------------------+------------------+------------------+------------------+-------------------+------------------+-------------------+----------------------+------------------+------------------------+-------------------+\n",
            "\n"
          ]
        }
      ]
    },
    {
      "cell_type": "markdown",
      "metadata": {
        "id": "5GxACXvSMVX-"
      },
      "source": [
        "## Weighted"
      ]
    },
    {
      "cell_type": "code",
      "metadata": {
        "id": "dyFeIXtWMVX_"
      },
      "source": [
        "WeightedPerParityGroup = spark. \\\n",
        "  read. \\\n",
        "  parquet('/content/gdrive/Shared drives/Bovi-Analytics/Projects/ChenYongYan/Data/Tableau/HerdSummaryIn3Method1203/Weight/Weighted')"
      ],
      "execution_count": null,
      "outputs": []
    },
    {
      "cell_type": "code",
      "metadata": {
        "colab": {
          "base_uri": "https://localhost:8080/"
        },
        "id": "gHDbP9x4MVX_",
        "outputId": "a778e173-05ec-4187-c587-fe24645fbd46"
      },
      "source": [
        "WeightedPerParityGroup.show(3)"
      ],
      "execution_count": null,
      "outputs": [
        {
          "output_type": "stream",
          "name": "stdout",
          "text": [
            "+--------------+--------+-----------+-----------------+------------------+--------------------+--------------------+------------------+------------------+--------------+-----------+-------------+----------+------------+-----------+-----------------+------------+\n",
            "|HerdIdentifier|TestYear|ParityGroup|      MeanScaleKg|          MeanRamp|          MeanOffset|           MeanDecay|   MeanPersistence|        MeanM305Kg|NumberOfAnimal|TotalWeight|MedianScaleKg|MedianRamp|MedianOffset|MedianDecay|MedianPersistence|MedianM305Kg|\n",
            "+--------------+--------+-----------+-----------------+------------------+--------------------+--------------------+------------------+------------------+--------------+-----------+-------------+----------+------------+-----------+-----------------+------------+\n",
            "|        311983|    2017|         2+|55.46420924574209|25.840551500405518|-0.29261962692619636|0.002771730489613701|282.17761557177613|10747.456153432668|           263|       1233|        55.48|      23.3|         0.0|    0.00277|            250.0|     10854.0|\n",
            "|        421225|    2016|         2+|47.24128404669262|20.361867704280154|-0.21478599221789885|0.002571789883268483| 315.3774319066148| 9555.515564202335|           102|        514|        48.24|      21.9|         0.0|    0.00249|            278.0|      9760.0|\n",
            "|        583082|    2009|         2+|39.11147260273972| 17.89178082191781|-0.32876712328767116|0.002276369863013...|362.04794520547944| 8246.493150684932|            60|        292|        38.62|      21.4|         0.0|    0.00221|            314.0|      8226.0|\n",
            "+--------------+--------+-----------+-----------------+------------------+--------------------+--------------------+------------------+------------------+--------------+-----------+-------------+----------+------------+-----------+-----------------+------------+\n",
            "only showing top 3 rows\n",
            "\n"
          ]
        }
      ]
    },
    {
      "cell_type": "code",
      "metadata": {
        "colab": {
          "base_uri": "https://localhost:8080/"
        },
        "id": "_mtZE_WBU8iY",
        "outputId": "3e33a9a5-29a8-4d8b-f845-6ca832f4da21"
      },
      "source": [
        "WeightedPerParityGroup.count()"
      ],
      "execution_count": null,
      "outputs": [
        {
          "output_type": "execute_result",
          "data": {
            "text/plain": [
              "380607"
            ]
          },
          "metadata": {},
          "execution_count": 24
        }
      ]
    },
    {
      "cell_type": "code",
      "source": [
        "WeightedPerParityGroup.\\\n",
        "  filter((col('TestYear')>2007)&\\\n",
        "      (col('TestYear')<2019)).\\\n",
        "  groupby('ParityGroup','TestYear').\\\n",
        "  agg(F.countDistinct('HerdIdentifier').alias('NumberOfHerd'),\n",
        "    F.avg('MeanScaleKg').alias('AverageMeanScale'),\n",
        "    F.stddev('MeanScaleKg').alias('SDMeanScale'),\n",
        "    F.avg('MedianScaleKg').alias('AverageMedianScale'),\n",
        "    F.stddev('MedianScaleKg').alias('SDMedianScale'),\n",
        "    F.avg('MeanRamp').alias('AverageMeanRamp'),\n",
        "    F.stddev('MeanRamp').alias('SDMeanRamp'),\n",
        "    F.avg('MedianRamp').alias('AverageMedianRamp'),\n",
        "    F.stddev('MedianRamp').alias('SDMedianRamp'),\n",
        "    F.avg('MeanPersistence').alias('AverageMeanPersistence'),\n",
        "    F.stddev('MeanPersistence').alias('SDMeanPersistence'),\n",
        "    F.avg('MedianPersistence').alias('AverageMedianPersistence'),\n",
        "    F.stddev('MedianPersistence').alias('SDMedianPersistence')).\\\n",
        "  orderBy('ParityGroup','TestYear').\\\n",
        "  show(30)"
      ],
      "metadata": {
        "colab": {
          "base_uri": "https://localhost:8080/"
        },
        "id": "KmBcz6KqP1Xz",
        "outputId": "f5a7cc85-7066-4d94-bfb4-5722ea6bf87a"
      },
      "execution_count": null,
      "outputs": [
        {
          "output_type": "stream",
          "name": "stdout",
          "text": [
            "+-----------+--------+------------+------------------+------------------+------------------+------------------+------------------+-------------------+------------------+-------------------+----------------------+------------------+------------------------+-------------------+\n",
            "|ParityGroup|TestYear|NumberOfHerd|  AverageMeanScale|       SDMeanScale|AverageMedianScale|     SDMedianScale|   AverageMeanRamp|         SDMeanRamp| AverageMedianRamp|       SDMedianRamp|AverageMeanPersistence| SDMeanPersistence|AverageMedianPersistence|SDMedianPersistence|\n",
            "+-----------+--------+------------+------------------+------------------+------------------+------------------+------------------+-------------------+------------------+-------------------+----------------------+------------------+------------------------+-------------------+\n",
            "|          1|    2008|       16207| 33.94067804799886| 3.805547539291989|33.816106620595576|4.0061891224938675|29.431552002876664| 0.4898839794877628|29.572619855618026| 0.4548596430619996|     407.6526604429866| 82.42406039755978|       369.9337940396125|  78.04866711177391|\n",
            "|          1|    2009|       15875| 34.30276376928697| 3.856888897882062| 34.17911685039331| 4.057227075327899|29.414018882782916|0.48823653081042373|29.549924409448945|0.45411442792616485|     407.2201065911753| 82.50751398579077|      368.84818897637797|  78.67732717549558|\n",
            "|          1|    2010|       15500| 34.48008830712076|3.8980246623957475| 34.35256645161251|4.0892055803039815| 29.42147940049793| 0.4941868983729757| 29.55659354838718|0.45875368289258467|     417.9729590727616|  85.7140874899928|       378.3592258064516|  82.21874354722216|\n",
            "|          1|    2011|       15123|34.625655936666256|3.8440333140521847| 34.49692124578414| 4.049250714871196| 29.46975645008095|  0.484439120831971| 29.60130926403496| 0.4454593230614015|    407.43435341637087| 82.58892386982478|      368.80199034583086|  78.49764704664044|\n",
            "|          1|    2012|       14784|34.401915598806134| 3.824766599232264| 34.26198694534588| 4.030513340829275|29.447047168550128| 0.4773104699620247| 29.58215976731614| 0.4393687041545645|     392.7219109194289| 80.81632807765719|        354.387141504329|  76.63491367706195|\n",
            "|          1|    2013|       14546| 34.01901451979494|3.8375403923599127| 33.88178880791933|  4.04520240058339| 29.42057396009234|0.46465327623776786|29.552567716210753|0.42918948737617024|    406.38857218689196| 84.40855795314094|      367.10638663550117|   79.6216966880108|\n",
            "|          1|    2014|       14432| 34.29043928600091| 3.802055172814038| 34.18638373059832|3.9953113976018284|29.472280528184406| 0.4701110600614982|  29.5996396895788| 0.4347209095150035|     403.1156267017507| 85.70314415449764|      362.62818736141907|  81.07521561162993|\n",
            "|          1|    2015|       14303| 34.08297813506203|3.8029614847042423| 33.95313710410365| 3.992813778294702| 29.48530598930235| 0.4632565776726142|29.608840802628897| 0.4247894326895486|    418.65591941170027| 86.85035945852113|      377.31234706005733|  82.35851567474312|\n",
            "|          1|    2016|       14186| 34.60611355530519| 3.814834370877031| 34.47745136049597| 3.980658842517192|29.492725150067667|0.45570976581189715| 29.62302974763856|0.41323207276332613|      409.681707959426| 86.04469364444329|       367.1551177216974|  81.63909673593014|\n",
            "|          1|    2017|       13684| 34.64677729095683|3.9281256110446776| 34.49619555685429| 4.114094988412631|29.488760178160312| 0.4573364369369038| 29.62036319789535| 0.4133469267590781|    443.15606851464895| 92.25108707832626|      398.76271558023967|  90.20548866992041|\n",
            "|          1|    2018|       13062| 35.73623664909109| 4.109271621323607| 35.59440323074545| 4.264236806772066| 29.48689557972457|  0.477174694771244|29.618105956208847|0.43550487123405046|     435.3200052036245| 90.25195725770307|      391.83141938447403|  87.26753265670997|\n",
            "|         2+|    2008|       16215| 45.55271661586684|5.6549454220309805| 45.39775177304932| 5.811916946281178| 21.69233391652848| 2.2571511764501246| 21.98491828553805| 1.3774776787900551|    274.19024939227364| 43.05694524032822|      251.40795559666975| 37.696053743734275|\n",
            "|         2+|    2009|       15887|45.925565055527656| 5.632963698362056| 45.76507679234549| 5.749170867076297|  21.5567136976696|  2.217382849343585|21.942912444136667| 1.3270891506692803|     273.6976891213111| 42.55073321788132|       250.8694215396236|  37.46654125712864|\n",
            "|         2+|    2010|       15512| 46.15119226537555| 5.690287031192343| 45.96998162712711| 5.833668855290108|21.560052055976175|   2.18756961930117|21.970210159876206|  1.261073294804617|     277.5449493316933|43.903852307723305|      254.09405621454357| 37.987336053868425|\n",
            "|         2+|    2011|       15130| 46.44209512090117| 5.688545496819495|  46.2764520819562| 5.833964761994248|21.847887195269156| 2.1931308334368964|22.071295439524075| 1.1894366906422673|    273.48657098732457| 42.25333266225362|      250.53231989424984|  36.86067927327158|\n",
            "|         2+|    2012|       14791| 46.12807402466236| 5.702304324444652| 45.97713440605751|  5.86711035167705|21.719026495353507|  2.145655378083543| 22.06593874653509|  1.135050103903268|     267.5347357820868| 40.81851640289776|       244.7032654992901|  35.40143888416681|\n",
            "|         2+|    2013|       14554| 45.46359099318763|5.7144028997979035|45.305561701250234| 5.890160723091764|21.452914367189898|   2.20617258022466|21.945922083276063| 1.3340340478794763|    276.65999853943765|44.518427079538014|      253.25377902981998|  38.22928519099022|\n",
            "|         2+|    2014|       14436| 45.90453105094633| 5.652197573955906| 45.75501039068959| 5.807488492525575|21.702579000273886|  2.229622127202304|22.036402050429306| 1.2597096592184174|    275.07016535531784| 43.28398470479445|      251.06449154890552| 37.500753446644474|\n",
            "|         2+|    2015|       14310| 45.75383397356443| 5.710899357376899|45.581577917539995| 5.871659313091015|21.725581828764845|  2.220139380911674|22.035108315862974| 1.2864417285926308|    284.96331085096193| 46.11153678028881|       259.7619846261356|   39.3911515695435|\n",
            "|         2+|    2016|       14196|46.212609971503106| 5.635537160294287| 46.05621301775127| 5.780782384890532|21.785876473332618|  2.131599645102502| 22.08944420963645| 1.1512541430037517|      281.239559499033| 43.86218435939225|      255.77821217244295| 38.461616984357505|\n",
            "|         2+|    2017|       13693| 46.35994306389412|5.6379554858190835| 46.16610384868168| 5.770466273513301|21.759412111243655| 2.0602172727756884|22.100335938070472| 1.0907203412835158|     297.4343063529038| 47.57807806979017|       269.6932009055722| 40.737105999506575|\n",
            "|         2+|    2018|       13069| 47.50446255960468| 5.803147730037823| 47.34032443186178|  5.92430800116389|21.765054247116424|  2.150737436169012| 22.06786670747565| 1.2009271021967443|     292.8178066861473|45.311778900201695|        267.454013313949| 39.951411856219835|\n",
            "+-----------+--------+------------+------------------+------------------+------------------+------------------+------------------+-------------------+------------------+-------------------+----------------------+------------------+------------------------+-------------------+\n",
            "\n"
          ]
        }
      ]
    }
  ]
}