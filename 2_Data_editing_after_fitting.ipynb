{
  "nbformat": 4,
  "nbformat_minor": 0,
  "metadata": {
    "colab": {
      "name": "2. Data editing after fitting.ipynb",
      "provenance": [],
      "collapsed_sections": [],
      "toc_visible": true,
      "authorship_tag": "ABX9TyPJ29n+QwYV7gXKMsJKQval",
      "include_colab_link": true
    },
    "kernelspec": {
      "name": "python3",
      "display_name": "Python 3"
    },
    "language_info": {
      "name": "python"
    }
  },
  "cells": [
    {
      "cell_type": "markdown",
      "metadata": {
        "id": "view-in-github",
        "colab_type": "text"
      },
      "source": [
        "<a href=\"https://colab.research.google.com/github/Bovi-analytics/SupplementalFiles-YongyanChen/blob/main/2_Data_editing_after_fitting.ipynb\" target=\"_parent\"><img src=\"https://colab.research.google.com/assets/colab-badge.svg\" alt=\"Open In Colab\"/></a>"
      ]
    },
    {
      "cell_type": "markdown",
      "metadata": {
        "id": "up2G8zDbhsEN"
      },
      "source": [
        "# Preparation"
      ]
    },
    {
      "cell_type": "code",
      "metadata": {
        "id": "z_TdENL02G2-",
        "colab": {
          "base_uri": "https://localhost:8080/"
        },
        "outputId": "112a68fa-f980-4197-f984-22e402cfdee7"
      },
      "source": [
        "from google.colab import drive \n",
        "drive.mount('/content/gdrive') "
      ],
      "execution_count": null,
      "outputs": [
        {
          "output_type": "stream",
          "name": "stdout",
          "text": [
            "Mounted at /content/gdrive\n"
          ]
        }
      ]
    },
    {
      "cell_type": "code",
      "source": [
        "!apt-get update"
      ],
      "metadata": {
        "colab": {
          "base_uri": "https://localhost:8080/"
        },
        "id": "b6VU7CcQhcF2",
        "outputId": "68a5cbc8-6377-488e-c9e8-480ed01865f6"
      },
      "execution_count": null,
      "outputs": [
        {
          "output_type": "stream",
          "name": "stdout",
          "text": [
            "\r0% [Working]\r            \rHit:1 http://archive.ubuntu.com/ubuntu bionic InRelease\n",
            "\r0% [Waiting for headers] [Connecting to security.ubuntu.com (91.189.88.142)] [C\r                                                                               \rGet:2 http://archive.ubuntu.com/ubuntu bionic-updates InRelease [88.7 kB]\n",
            "\r                                                                               \rGet:3 http://security.ubuntu.com/ubuntu bionic-security InRelease [88.7 kB]\n",
            "\r                                                                               \rGet:4 http://ppa.launchpad.net/c2d4u.team/c2d4u4.0+/ubuntu bionic InRelease [15.9 kB]\n",
            "\r0% [2 InRelease 47.5 kB/88.7 kB 54%] [3 InRelease 28.6 kB/88.7 kB 32%] [Connect\r0% [1 InRelease gpgv 242 kB] [2 InRelease 47.5 kB/88.7 kB 54%] [3 InRelease 31.\r0% [1 InRelease gpgv 242 kB] [Waiting for headers] [3 InRelease 54.7 kB/88.7 kB\r                                                                               \rHit:5 http://ppa.launchpad.net/cran/libgit2/ubuntu bionic InRelease\n",
            "\r0% [1 InRelease gpgv 242 kB] [Waiting for headers] [3 InRelease 83.7 kB/88.7 kB\r0% [1 InRelease gpgv 242 kB] [Waiting for headers] [Connected to cloud.r-projec\r                                                                               \rGet:6 http://archive.ubuntu.com/ubuntu bionic-backports InRelease [74.6 kB]\n",
            "\r0% [1 InRelease gpgv 242 kB] [6 InRelease 25.8 kB/74.6 kB 35%] [Connected to cl\r0% [1 InRelease gpgv 242 kB] [Waiting for headers] [Waiting for headers] [Waiti\r                                                                               \rGet:7 https://cloud.r-project.org/bin/linux/ubuntu bionic-cran40/ InRelease [3,626 B]\n",
            "\r                                                                               \r0% [1 InRelease gpgv 242 kB] [Waiting for headers] [Waiting for headers]\r                                                                        \rHit:8 http://ppa.launchpad.net/deadsnakes/ppa/ubuntu bionic InRelease\n",
            "Hit:9 http://ppa.launchpad.net/graphics-drivers/ppa/ubuntu bionic InRelease\n",
            "Ign:10 https://developer.download.nvidia.com/compute/cuda/repos/ubuntu1804/x86_64  InRelease\n",
            "Ign:11 https://developer.download.nvidia.com/compute/machine-learning/repos/ubuntu1804/x86_64  InRelease\n",
            "Hit:12 https://developer.download.nvidia.com/compute/cuda/repos/ubuntu1804/x86_64  Release\n",
            "Hit:13 https://developer.download.nvidia.com/compute/machine-learning/repos/ubuntu1804/x86_64  Release\n",
            "Get:14 http://ppa.launchpad.net/c2d4u.team/c2d4u4.0+/ubuntu bionic/main Sources [1,822 kB]\n",
            "Get:15 http://ppa.launchpad.net/c2d4u.team/c2d4u4.0+/ubuntu bionic/main amd64 Packages [934 kB]\n",
            "Get:16 http://archive.ubuntu.com/ubuntu bionic-updates/restricted amd64 Packages [758 kB]\n",
            "Get:17 http://archive.ubuntu.com/ubuntu bionic-updates/main amd64 Packages [2,935 kB]\n",
            "Get:18 http://security.ubuntu.com/ubuntu bionic-security/main amd64 Packages [2,492 kB]\n",
            "Fetched 9,213 kB in 2s (4,391 kB/s)\n",
            "Reading package lists... Done\n"
          ]
        }
      ]
    },
    {
      "cell_type": "code",
      "metadata": {
        "id": "fXmhrWJrSlTa"
      },
      "source": [
        "!apt-get install openjdk-8-jdk-headless -qq > /dev/null\n",
        "!wget -q https://downloads.apache.org/spark/spark-3.2.0/spark-3.2.0-bin-hadoop3.2.tgz\n",
        "!tar xf spark-3.2.0-bin-hadoop3.2.tgz\n",
        "!pip install -q findspark"
      ],
      "execution_count": null,
      "outputs": []
    },
    {
      "cell_type": "code",
      "metadata": {
        "id": "cqsYe1iXSlTa"
      },
      "source": [
        "import os\n",
        "os.environ[\"JAVA_HOME\"] = \"/usr/lib/jvm/java-8-openjdk-amd64\"\n",
        "os.environ[\"SPARK_HOME\"] = \"/content/spark-3.2.0-bin-hadoop3.2\""
      ],
      "execution_count": null,
      "outputs": []
    },
    {
      "cell_type": "code",
      "metadata": {
        "id": "sLgcsWc0QwlT"
      },
      "source": [
        "import findspark\n",
        "findspark.init()\n",
        "from pyspark.sql import SparkSession"
      ],
      "execution_count": null,
      "outputs": []
    },
    {
      "cell_type": "code",
      "metadata": {
        "id": "vTaRa-M0QyMr"
      },
      "source": [
        "spark = SparkSession.builder.master(\"local[*]\").getOrCreate()"
      ],
      "execution_count": null,
      "outputs": []
    },
    {
      "cell_type": "code",
      "metadata": {
        "id": "7jVcbnvoQ40j"
      },
      "source": [
        "from pyspark.sql.types import LongType, StringType, StructField, StructType, BooleanType, ArrayType, IntegerType, DoubleType, FloatType\n",
        "import pyspark\n",
        "from pyspark.sql import functions as F,Window\n",
        "from pyspark.sql.functions import year, col, array, monotonically_increasing_id, to_json, struct, round, datediff,unix_timestamp,udf,avg\n",
        "import json\n",
        "from urllib.request import  urlopen\n",
        "import pyspark.sql.functions as F"
      ],
      "execution_count": null,
      "outputs": []
    },
    {
      "cell_type": "markdown",
      "metadata": {
        "id": "CSpQ0KLu8MWG"
      },
      "source": [
        "# Load in fitting result per lactation"
      ]
    },
    {
      "cell_type": "code",
      "metadata": {
        "id": "62P-WOc1EeNq"
      },
      "source": [
        "FittingPerLactation= spark \\\n",
        "  .read \\\n",
        "  .parquet('/content/gdrive/Shared drives/Bovi-Analytics/Projects/ChenYongYan/Data/FittingPerLactation1112/')"
      ],
      "execution_count": null,
      "outputs": []
    },
    {
      "cell_type": "code",
      "metadata": {
        "colab": {
          "base_uri": "https://localhost:8080/"
        },
        "id": "XRMSaoev0n2b",
        "outputId": "1fe4a271-70e2-4649-9bb1-346bccccbdc0"
      },
      "source": [
        "FittingPerLactation.show(3)"
      ],
      "execution_count": null,
      "outputs": [
        {
          "output_type": "stream",
          "text": [
            "+--------------+----------------+-----------+------+----------+------+-------+----+------+-------+-----------+--------+-------+\n",
            "|HerdIdentifier|AnimalIdentifier|CalvingDate|Parity|DaysInMilk|Points|ScaleKg|Ramp|Offset|  Decay|Persistence|StdErrKg| M305Kg|\n",
            "+--------------+----------------+-----------+------+----------+------+-------+----+------+-------+-----------+--------+-------+\n",
            "|           590|   NL 3233658025| 2008-07-31|   6.0|     377.0|   7.0|  52.76|34.8|   0.0|0.00233|      297.0|     1.9|10644.0|\n",
            "|           590|   NL 3514206103| 2006-12-28|   3.0|     476.0|   8.0|  52.58| 8.5|   0.0|0.00219|      316.0|     1.8|11454.0|\n",
            "|           590|   NL 4146636720| 2006-09-14|   1.0|     406.0|   6.0|  44.55|30.0|  -0.5|0.00184|      378.0|     1.9| 9759.0|\n",
            "+--------------+----------------+-----------+------+----------+------+-------+----+------+-------+-----------+--------+-------+\n",
            "only showing top 3 rows\n",
            "\n"
          ],
          "name": "stdout"
        }
      ]
    },
    {
      "cell_type": "code",
      "metadata": {
        "id": "C33vdmyUbE4W",
        "colab": {
          "base_uri": "https://localhost:8080/"
        },
        "outputId": "b8276b00-7f1b-4052-db77-ade17890903a"
      },
      "source": [
        "FittingPerLactation.printSchema()"
      ],
      "execution_count": null,
      "outputs": [
        {
          "output_type": "stream",
          "text": [
            "root\n",
            " |-- HerdIdentifier: integer (nullable = true)\n",
            " |-- AnimalIdentifier: string (nullable = true)\n",
            " |-- CalvingDate: date (nullable = true)\n",
            " |-- Parity: double (nullable = true)\n",
            " |-- DaysInMilk: double (nullable = true)\n",
            " |-- Points: double (nullable = true)\n",
            " |-- ScaleKg: double (nullable = true)\n",
            " |-- Ramp: double (nullable = true)\n",
            " |-- Offset: double (nullable = true)\n",
            " |-- Decay: double (nullable = true)\n",
            " |-- Persistence: double (nullable = true)\n",
            " |-- StdErrKg: double (nullable = true)\n",
            " |-- M305Kg: double (nullable = true)\n",
            "\n"
          ],
          "name": "stdout"
        }
      ]
    },
    {
      "cell_type": "code",
      "metadata": {
        "id": "M8qIWY4hbL7v",
        "colab": {
          "base_uri": "https://localhost:8080/"
        },
        "outputId": "c7c48d45-6e5b-4eee-9caa-5af7913c2645"
      },
      "source": [
        "FittingPerLactation.select('ScaleKg','Ramp','Decay','Persistence','StdErrKg','M305Kg','Points').describe().show()"
      ],
      "execution_count": null,
      "outputs": [
        {
          "output_type": "stream",
          "name": "stdout",
          "text": [
            "+-------+------------------+------------------+--------------------+-----------------+--------------------+--------------------+------------------+\n",
            "|summary|           ScaleKg|              Ramp|               Decay|      Persistence|            StdErrKg|              M305Kg|            Points|\n",
            "+-------+------------------+------------------+--------------------+-----------------+--------------------+--------------------+------------------+\n",
            "|  count|          16676767|          16676767|            16676767|         16676767|            16674596|            16612565|          16676767|\n",
            "|   mean| 43.42424388363418|24.385017305838023|0.002684000223172...|462.3720479515004|2.285239021253542E30|-3.07312246873255...| 7.895736026053491|\n",
            "| stddev|11.196694672999707| 8.262488294588225|0.001115978197131...|69406.52921487276|4.938804847761733...|                 NaN|3.4434893629722203|\n",
            "|    min|              1.26|              -0.5|                 0.0|             56.0|                 0.0|-3.44964698115909...|               1.0|\n",
            "|    max|            136.48|             103.0|             0.01232|      9.4886155E7|1.417129170175821...|             19843.0|              69.0|\n",
            "+-------+------------------+------------------+--------------------+-----------------+--------------------+--------------------+------------------+\n",
            "\n"
          ]
        }
      ]
    },
    {
      "cell_type": "code",
      "metadata": {
        "colab": {
          "base_uri": "https://localhost:8080/"
        },
        "id": "sVO-H_tvTBNx",
        "outputId": "425458ee-92dd-4078-8f1f-b705b15b8612"
      },
      "source": [
        "new_cols = ['ScaleKg','Ramp','Offset','Decay','Persistence']\n",
        "for c in new_cols:\n",
        "  FittingPerLactation.\\\n",
        "  withColumn('ParityGroup',F.when(F.col('Parity')==1,'1').\n",
        "             otherwise('2+')).\\\n",
        "  groupBy('ParityGroup').\\\n",
        "  agg(F.mean(c),\n",
        "    F.percentile_approx(c,0.5),\n",
        "    F.stddev(c)).\\\n",
        "  show()"
      ],
      "execution_count": null,
      "outputs": [
        {
          "output_type": "stream",
          "name": "stdout",
          "text": [
            "+-----------+-----------------+--------------------------------------+--------------------+\n",
            "|ParityGroup|     avg(ScaleKg)|percentile_approx(ScaleKg, 0.5, 10000)|stddev_samp(ScaleKg)|\n",
            "+-----------+-----------------+--------------------------------------+--------------------+\n",
            "|         2+|47.17715545798857|                                 47.58|  10.552939396575196|\n",
            "|          1|34.64810179118066|                                 34.17|   6.939123811812576|\n",
            "+-----------+-----------------+--------------------------------------+--------------------+\n",
            "\n",
            "+-----------+------------------+-----------------------------------+-----------------+\n",
            "|ParityGroup|         avg(Ramp)|percentile_approx(Ramp, 0.5, 10000)|stddev_samp(Ramp)|\n",
            "+-----------+------------------+-----------------------------------+-----------------+\n",
            "|         2+| 22.15440454678542|                               22.5| 8.96056144463396|\n",
            "|          1|29.601280502658522|                               29.8|1.143817551157831|\n",
            "+-----------+------------------+-----------------------------------+-----------------+\n",
            "\n",
            "+-----------+--------------------+-------------------------------------+-------------------+\n",
            "|ParityGroup|         avg(Offset)|percentile_approx(Offset, 0.5, 10000)|stddev_samp(Offset)|\n",
            "+-----------+--------------------+-------------------------------------+-------------------+\n",
            "|         2+|-0.27613890486834153|                                  0.0| 0.3803399025801551|\n",
            "|          1|                -0.5|                                 -0.5|                0.0|\n",
            "+-----------+--------------------+-------------------------------------+-------------------+\n",
            "\n",
            "+-----------+--------------------+------------------------------------+--------------------+\n",
            "|ParityGroup|          avg(Decay)|percentile_approx(Decay, 0.5, 10000)|  stddev_samp(Decay)|\n",
            "+-----------+--------------------+------------------------------------+--------------------+\n",
            "|         2+|0.002979675871066...|                              0.0029| 0.00107756518550371|\n",
            "|          1|0.001992565999989...|                              0.0019|8.717387342584918E-4|\n",
            "+-----------+--------------------+------------------------------------+--------------------+\n",
            "\n",
            "+-----------+------------------+------------------------------------------+------------------------+\n",
            "|ParityGroup|  avg(Persistence)|percentile_approx(Persistence, 0.5, 10000)|stddev_samp(Persistence)|\n",
            "+-----------+------------------+------------------------------------------+------------------------+\n",
            "|         2+|328.98188720025905|                                     239.0|       29706.52629526331|\n",
            "|          1|  774.303459409077|                                     365.0|      118400.12200142605|\n",
            "+-----------+------------------+------------------------------------------+------------------------+\n",
            "\n"
          ]
        }
      ]
    },
    {
      "cell_type": "code",
      "metadata": {
        "id": "y_PamBjzWta8",
        "colab": {
          "base_uri": "https://localhost:8080/",
          "height": 35
        },
        "outputId": "2c96c891-3d20-4354-f0a2-0027d15d1034"
      },
      "source": [
        "FittingPerLactation.approxQuantile(['ScaleKg','Ramp','Offset','Decay','Persistence','StdErrKg','M305Kg'], [0.5], 0.25)"
      ],
      "execution_count": null,
      "outputs": [
        {
          "output_type": "execute_result",
          "data": {
            "text/plain": [
              "[[42.66], [25.3], [-0.5], [0.00251], [278.0], [2.0], [8494.0]]"
            ]
          },
          "metadata": {
            "tags": []
          },
          "execution_count": 61
        }
      ]
    },
    {
      "cell_type": "code",
      "metadata": {
        "id": "wFfHWxh6IkS1",
        "colab": {
          "base_uri": "https://localhost:8080/"
        },
        "outputId": "b79aa379-0f9c-4879-86b4-387335082e44"
      },
      "source": [
        "FittingPerLactation.count()"
      ],
      "execution_count": null,
      "outputs": [
        {
          "output_type": "execute_result",
          "data": {
            "text/plain": [
              "16676767"
            ]
          },
          "metadata": {
            "tags": []
          },
          "execution_count": 18
        }
      ]
    },
    {
      "cell_type": "code",
      "metadata": {
        "id": "1YfGXeQcIYus",
        "colab": {
          "base_uri": "https://localhost:8080/"
        },
        "outputId": "e50ccef5-4963-470c-d654-584c6040b76d"
      },
      "source": [
        "FittingPerLactation.filter((col('Decay')==0)).count()"
      ],
      "execution_count": null,
      "outputs": [
        {
          "output_type": "execute_result",
          "data": {
            "text/plain": [
              "62942"
            ]
          },
          "metadata": {
            "tags": []
          },
          "execution_count": 19
        }
      ]
    },
    {
      "cell_type": "code",
      "metadata": {
        "id": "_aUl1KYLIYux",
        "colab": {
          "base_uri": "https://localhost:8080/"
        },
        "outputId": "9921fe0b-c3c1-4206-9438-9cbd71346968"
      },
      "source": [
        "FittingPerLactation.where(F.col(\"M305Kg\").isNull()).count()"
      ],
      "execution_count": null,
      "outputs": [
        {
          "output_type": "execute_result",
          "data": {
            "text/plain": [
              "64202"
            ]
          },
          "metadata": {
            "tags": []
          },
          "execution_count": 20
        }
      ]
    },
    {
      "cell_type": "code",
      "metadata": {
        "id": "NIFgxJfGIYu0",
        "colab": {
          "base_uri": "https://localhost:8080/"
        },
        "outputId": "19159ad7-2e65-4539-dc05-461e787deb08"
      },
      "source": [
        "FittingPerLactation.where(F.col(\"Persistence\").isNull()).count()"
      ],
      "execution_count": null,
      "outputs": [
        {
          "output_type": "execute_result",
          "data": {
            "text/plain": [
              "0"
            ]
          },
          "metadata": {
            "tags": []
          },
          "execution_count": 21
        }
      ]
    },
    {
      "cell_type": "markdown",
      "metadata": {
        "id": "7YA700NjJiMp"
      },
      "source": [
        "# Recalculate decay and M305"
      ]
    },
    {
      "cell_type": "code",
      "metadata": {
        "id": "wGqPgmfzLQ_R"
      },
      "source": [
        "import math\n",
        "from pyspark.sql.functions import udf\n",
        "M305_udf=udf(lambda Scale,Ramp,Offset,Decay:(Scale-Scale*math.exp(-305*Decay))/Decay+(Scale*Ramp*math.exp(Offset/Ramp)*(-1+math.exp(-305*((1/Ramp)+Decay))))/(2+2*Ramp*Decay),DoubleType())"
      ],
      "execution_count": null,
      "outputs": []
    },
    {
      "cell_type": "code",
      "metadata": {
        "id": "oZFzw7O16QJJ"
      },
      "source": [
        "FittingPerLactation=FittingPerLactation.\\\n",
        "  withColumn('Decay',F.when(FittingPerLactation.Decay==0,0.693/FittingPerLactation.Persistence).otherwise(FittingPerLactation.Decay))"
      ],
      "execution_count": null,
      "outputs": []
    },
    {
      "cell_type": "code",
      "metadata": {
        "id": "pwiIpxxzZrNf"
      },
      "source": [
        "FittingPerLactation=FittingPerLactation.filter('Ramp>0')"
      ],
      "execution_count": null,
      "outputs": []
    },
    {
      "cell_type": "code",
      "metadata": {
        "id": "_hFNq0xq6QJJ"
      },
      "source": [
        "FittingPerLactation=FittingPerLactation.\\\n",
        "  withColumn('M305Kg',F.when(FittingPerLactation_1.M305Kg.isNull(),M305_udf(FittingPerLactation_1.ScaleKg,FittingPerLactation_1.Ramp,FittingPerLactation_1.Offset,FittingPerLactation_1.Decay)).otherwise(FittingPerLactation_1.M305Kg))"
      ],
      "execution_count": null,
      "outputs": []
    },
    {
      "cell_type": "code",
      "metadata": {
        "colab": {
          "base_uri": "https://localhost:8080/"
        },
        "id": "f3Iq8onfbLwA",
        "outputId": "fc8aaad1-1777-4259-8855-877a5deff182"
      },
      "source": [
        "FittingPerLactation.select('ScaleKg','Ramp','Decay','Persistence','StdErrKg','M305Kg','Points').describe().show()"
      ],
      "execution_count": null,
      "outputs": [
        {
          "output_type": "stream",
          "text": [
            "+-------+------------------+------------------+--------------------+------------------+------------------+------------------+------------------+\n",
            "|summary|           ScaleKg|              Ramp|               Decay|       Persistence|          StdErrKg|            M305Kg|            Points|\n",
            "+-------+------------------+------------------+--------------------+------------------+------------------+------------------+------------------+\n",
            "|  count|          16674591|          16674591|            16674591|          16674591|          16674591|          16674591|          16674591|\n",
            "|   mean|  43.4236263245402|24.388201089935478|0.002686531855513955|462.40053576126695| 2.035951970271083| 8502.416728651928| 7.895874027734774|\n",
            "| stddev|11.197277429372612| 8.258325227197549|0.001110592681658...| 69411.05748970865|1.1541129752016521|1892.6148422999186|3.4433423814670068|\n",
            "|    min|              1.26|               0.1| 7.30348911282157E-9|              56.0|               0.0|             277.0|               1.0|\n",
            "|    max|            136.48|             103.0|             0.01232|       9.4886155E7|              43.9|           19843.0|              69.0|\n",
            "+-------+------------------+------------------+--------------------+------------------+------------------+------------------+------------------+\n",
            "\n"
          ],
          "name": "stdout"
        }
      ]
    },
    {
      "cell_type": "code",
      "metadata": {
        "id": "-ygQaF7uoeCD"
      },
      "source": [
        "FittingPerLactation=FittingPerLactation.withColumn('ParityGroup',F.when(F.col('Parity')==1,'1').otherwise('2+'))"
      ],
      "execution_count": null,
      "outputs": []
    },
    {
      "cell_type": "code",
      "metadata": {
        "colab": {
          "base_uri": "https://localhost:8080/"
        },
        "id": "V11YHgAldr9d",
        "outputId": "daaf2711-31c3-40ae-d1b0-0fe7e5f5bb1e"
      },
      "source": [
        "FittingPerLactation.agg(F.countDistinct(\"HerdIdentifier\"),F.countDistinct(\"AnimalIdentifier\")).collect()"
      ],
      "execution_count": null,
      "outputs": [
        {
          "output_type": "execute_result",
          "data": {
            "text/plain": [
              "[Row(count(HerdIdentifier)=17580, count(AnimalIdentifier)=5894461)]"
            ]
          },
          "metadata": {},
          "execution_count": 24
        }
      ]
    },
    {
      "cell_type": "markdown",
      "metadata": {
        "id": "easdFqaxVgJx"
      },
      "source": [
        "#Excluded extreme lactation curve characteristics"
      ]
    },
    {
      "cell_type": "code",
      "metadata": {
        "colab": {
          "base_uri": "https://localhost:8080/"
        },
        "id": "rXl4O7KMcTue",
        "outputId": "93862e25-1aaa-447d-e0f0-50620915c5d5"
      },
      "source": [
        "FittingPerLactation.approxQuantile(['ScaleKg','Ramp','Persistence'], [0.01,0.05,0.95,0.99], 0.00001)"
      ],
      "execution_count": null,
      "outputs": [
        {
          "output_type": "execute_result",
          "data": {
            "text/plain": [
              "[[20.34, 26.32, 62.6, 71.68],\n",
              " [3.9, 8.2, 36.7, 46.2],\n",
              " [119.0, 150.0, 664.0, 1305.0]]"
            ]
          },
          "metadata": {},
          "execution_count": 9
        }
      ]
    },
    {
      "cell_type": "code",
      "metadata": {
        "id": "ZfrzEJhydEBp"
      },
      "source": [
        "QuantilesScaleKg = FittingPerLactation.agg(F.expr('percentile(ScaleKg,array(0.01,0.99))').alias('Q1')).select('Q1').collect()[0][0]\n",
        "QuantilesRamp = FittingPerLactation.agg(F.expr('percentile(Ramp,array(0.01,0.99))').alias('Q1')).select('Q1').collect()[0][0]\n",
        "QuantilesPersistence = FittingPerLactation.agg(F.expr('percentile(Persistence,array(0.01,0.99))').alias('Q1')).select('Q1').collect()[0][0]"
      ],
      "execution_count": null,
      "outputs": []
    },
    {
      "cell_type": "code",
      "metadata": {
        "colab": {
          "base_uri": "https://localhost:8080/"
        },
        "id": "ZXXEF-65dHsv",
        "outputId": "3a46f6a9-c899-4140-a733-f30dff6250e2"
      },
      "source": [
        "FittingPerLactation.\\\n",
        "  select('ScaleKg','Ramp','Persistence').\\\n",
        "  summary().\\\n",
        "  show()"
      ],
      "execution_count": null,
      "outputs": [
        {
          "output_type": "stream",
          "name": "stdout",
          "text": [
            "+-------+------------------+-----------------+------------------+\n",
            "|summary|           ScaleKg|             Ramp|       Persistence|\n",
            "+-------+------------------+-----------------+------------------+\n",
            "|  count|          16674591|         16674591|          16674591|\n",
            "|   mean|    43.42362632454|24.38820108993547|462.40053576126695|\n",
            "| stddev|11.197277429372397|8.258325227197652| 69411.05748970821|\n",
            "|    min|              1.26|              0.1|              56.0|\n",
            "|    25%|             35.27|             21.7|             209.0|\n",
            "|    50%|             42.98|             23.3|             266.0|\n",
            "|    75%|              50.4|             29.8|             364.0|\n",
            "|    max|            136.48|            103.0|       9.4886155E7|\n",
            "+-------+------------------+-----------------+------------------+\n",
            "\n"
          ]
        }
      ]
    },
    {
      "cell_type": "code",
      "metadata": {
        "id": "L8ceClB2Opwk"
      },
      "source": [
        "FittingPerLactationFiltered = FittingPerLactation. \\\n",
        "  filter((col('ScaleKg')>QuantilesScaleKg[0]) &\\\n",
        "      (col('ScaleKg')<QuantilesScaleKg[1]) &\\\n",
        "      (col('Ramp')>QuantilesRamp[0]) &\\\n",
        "      (col('Ramp')<QuantilesRamp[1]) &\\\n",
        "      (col('Persistence')>QuantilesPersistence[0]) &\\\n",
        "      (col('Persistence')<QuantilesPersistence[1])\n",
        "  )"
      ],
      "execution_count": null,
      "outputs": []
    },
    {
      "cell_type": "code",
      "metadata": {
        "colab": {
          "base_uri": "https://localhost:8080/"
        },
        "id": "ZoroQ_hScPb1",
        "outputId": "c6ae4283-65c5-45c2-de4e-1e08e05585a8"
      },
      "source": [
        "FittingPerLactationFiltered.\\\n",
        "  select('ScaleKg','Ramp','Persistence').\\\n",
        "  summary().\\\n",
        "  show()"
      ],
      "execution_count": null,
      "outputs": [
        {
          "output_type": "stream",
          "name": "stdout",
          "text": [
            "+-------+-----------------+------------------+------------------+\n",
            "|summary|          ScaleKg|              Ramp|       Persistence|\n",
            "+-------+-----------------+------------------+------------------+\n",
            "|  count|         15726779|          15726779|          15726779|\n",
            "|   mean|43.36264926520977|24.276854141615818|310.00849442851586|\n",
            "| stddev| 10.3067715165052| 7.549765210298293| 157.8070939571753|\n",
            "|    min|            20.35|               4.0|             120.0|\n",
            "|    25%|            35.56|              21.8|             211.0|\n",
            "|    50%|            43.02|              23.2|             266.0|\n",
            "|    75%|            50.18|              29.8|             360.0|\n",
            "|    max|            71.66|              46.1|            1304.0|\n",
            "+-------+-----------------+------------------+------------------+\n",
            "\n"
          ]
        }
      ]
    },
    {
      "cell_type": "code",
      "metadata": {
        "colab": {
          "base_uri": "https://localhost:8080/"
        },
        "id": "IE31XCCkc75s",
        "outputId": "550f520c-265c-4eb5-f622-d82a263fe3cd"
      },
      "source": [
        "FittingPerLactationFiltered.show(2)"
      ],
      "execution_count": null,
      "outputs": [
        {
          "output_type": "stream",
          "name": "stdout",
          "text": [
            "+--------------+----------------+-----------+------+----------+------+-------+----+------+-------+-----------+--------+-------+-----------+\n",
            "|HerdIdentifier|AnimalIdentifier|CalvingDate|Parity|DaysInMilk|Points|ScaleKg|Ramp|Offset|  Decay|Persistence|StdErrKg| M305Kg|ParityGroup|\n",
            "+--------------+----------------+-----------+------+----------+------+-------+----+------+-------+-----------+--------+-------+-----------+\n",
            "|           590|   NL 3233658025| 2008-07-31|   6.0|     377.0|   7.0|  52.76|34.8|   0.0|0.00233|      297.0|     1.9|10644.0|         2+|\n",
            "|           590|   NL 3514206103| 2006-12-28|   3.0|     476.0|   8.0|  52.58| 8.5|   0.0|0.00219|      316.0|     1.8|11454.0|         2+|\n",
            "+--------------+----------------+-----------+------+----------+------+-------+----+------+-------+-----------+--------+-------+-----------+\n",
            "only showing top 2 rows\n",
            "\n"
          ]
        }
      ]
    },
    {
      "cell_type": "code",
      "metadata": {
        "colab": {
          "base_uri": "https://localhost:8080/"
        },
        "id": "wisJpQOCdnYl",
        "outputId": "e4cdde60-4ddd-4946-c3a0-1a2a980ab073"
      },
      "source": [
        "FittingPerLactationFiltered.agg(F.countDistinct(\"HerdIdentifier\"),F.countDistinct(\"AnimalIdentifier\")).collect()"
      ],
      "execution_count": null,
      "outputs": [
        {
          "output_type": "execute_result",
          "data": {
            "text/plain": [
              "[Row(count(HerdIdentifier)=17579, count(AnimalIdentifier)=5773825)]"
            ]
          },
          "metadata": {},
          "execution_count": 23
        }
      ]
    },
    {
      "cell_type": "code",
      "metadata": {
        "id": "u97b-K5beIbd"
      },
      "source": [
        "FittingPerLactationFiltered.\\\n",
        "  repartition(1).\\\n",
        "  write.\\\n",
        "  parquet(path='/content/gdrive/Shared drives/Bovi-Analytics/Projects/ChenYongYan/Data/Tableau/FittingPerLactationFiltered',mode=\"overwrite\")"
      ],
      "execution_count": null,
      "outputs": []
    },
    {
      "cell_type": "code",
      "metadata": {
        "id": "0_2q2qfbegFc"
      },
      "source": [
        "FittingPerLactationFiltered = spark \\\n",
        "  .read \\\n",
        "  .parquet('/content/gdrive/Shared drives/Bovi-Analytics/Projects/ChenYongYan/Data/Tableau/FittingPerLactationFiltered')"
      ],
      "execution_count": null,
      "outputs": []
    }
  ]
}