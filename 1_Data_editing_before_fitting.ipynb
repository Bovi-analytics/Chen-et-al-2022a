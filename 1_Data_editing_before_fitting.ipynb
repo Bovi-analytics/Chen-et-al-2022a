{
  "nbformat": 4,
  "nbformat_minor": 0,
  "metadata": {
    "colab": {
      "name": "1. Data editing before fitting.ipynb",
      "provenance": [],
      "collapsed_sections": [],
      "toc_visible": true,
      "authorship_tag": "ABX9TyOPd4WLEKm1Y/bFka1aS6vZ",
      "include_colab_link": true
    },
    "kernelspec": {
      "name": "python3",
      "display_name": "Python 3"
    },
    "language_info": {
      "name": "python"
    }
  },
  "cells": [
    {
      "cell_type": "markdown",
      "metadata": {
        "id": "view-in-github",
        "colab_type": "text"
      },
      "source": [
        "<a href=\"https://colab.research.google.com/github/Bovi-analytics/SupplementalFiles-YongyanChen/blob/main/1_Data_editing_before_fitting.ipynb\" target=\"_parent\"><img src=\"https://colab.research.google.com/assets/colab-badge.svg\" alt=\"Open In Colab\"/></a>"
      ]
    },
    {
      "cell_type": "markdown",
      "metadata": {
        "id": "up2G8zDbhsEN"
      },
      "source": [
        "# Preparation"
      ]
    },
    {
      "cell_type": "code",
      "metadata": {
        "id": "z_TdENL02G2-",
        "colab": {
          "base_uri": "https://localhost:8080/"
        },
        "outputId": "112a68fa-f980-4197-f984-22e402cfdee7"
      },
      "source": [
        "from google.colab import drive \n",
        "drive.mount('/content/gdrive') "
      ],
      "execution_count": null,
      "outputs": [
        {
          "output_type": "stream",
          "name": "stdout",
          "text": [
            "Mounted at /content/gdrive\n"
          ]
        }
      ]
    },
    {
      "cell_type": "code",
      "source": [
        "!apt-get update"
      ],
      "metadata": {
        "colab": {
          "base_uri": "https://localhost:8080/"
        },
        "id": "b6VU7CcQhcF2",
        "outputId": "68a5cbc8-6377-488e-c9e8-480ed01865f6"
      },
      "execution_count": null,
      "outputs": [
        {
          "output_type": "stream",
          "name": "stdout",
          "text": [
            "\r0% [Working]\r            \rHit:1 http://archive.ubuntu.com/ubuntu bionic InRelease\n",
            "\r0% [Waiting for headers] [Connecting to security.ubuntu.com (91.189.88.142)] [C\r                                                                               \rGet:2 http://archive.ubuntu.com/ubuntu bionic-updates InRelease [88.7 kB]\n",
            "\r                                                                               \rGet:3 http://security.ubuntu.com/ubuntu bionic-security InRelease [88.7 kB]\n",
            "\r                                                                               \rGet:4 http://ppa.launchpad.net/c2d4u.team/c2d4u4.0+/ubuntu bionic InRelease [15.9 kB]\n",
            "\r0% [2 InRelease 47.5 kB/88.7 kB 54%] [3 InRelease 28.6 kB/88.7 kB 32%] [Connect\r0% [1 InRelease gpgv 242 kB] [2 InRelease 47.5 kB/88.7 kB 54%] [3 InRelease 31.\r0% [1 InRelease gpgv 242 kB] [Waiting for headers] [3 InRelease 54.7 kB/88.7 kB\r                                                                               \rHit:5 http://ppa.launchpad.net/cran/libgit2/ubuntu bionic InRelease\n",
            "\r0% [1 InRelease gpgv 242 kB] [Waiting for headers] [3 InRelease 83.7 kB/88.7 kB\r0% [1 InRelease gpgv 242 kB] [Waiting for headers] [Connected to cloud.r-projec\r                                                                               \rGet:6 http://archive.ubuntu.com/ubuntu bionic-backports InRelease [74.6 kB]\n",
            "\r0% [1 InRelease gpgv 242 kB] [6 InRelease 25.8 kB/74.6 kB 35%] [Connected to cl\r0% [1 InRelease gpgv 242 kB] [Waiting for headers] [Waiting for headers] [Waiti\r                                                                               \rGet:7 https://cloud.r-project.org/bin/linux/ubuntu bionic-cran40/ InRelease [3,626 B]\n",
            "\r                                                                               \r0% [1 InRelease gpgv 242 kB] [Waiting for headers] [Waiting for headers]\r                                                                        \rHit:8 http://ppa.launchpad.net/deadsnakes/ppa/ubuntu bionic InRelease\n",
            "Hit:9 http://ppa.launchpad.net/graphics-drivers/ppa/ubuntu bionic InRelease\n",
            "Ign:10 https://developer.download.nvidia.com/compute/cuda/repos/ubuntu1804/x86_64  InRelease\n",
            "Ign:11 https://developer.download.nvidia.com/compute/machine-learning/repos/ubuntu1804/x86_64  InRelease\n",
            "Hit:12 https://developer.download.nvidia.com/compute/cuda/repos/ubuntu1804/x86_64  Release\n",
            "Hit:13 https://developer.download.nvidia.com/compute/machine-learning/repos/ubuntu1804/x86_64  Release\n",
            "Get:14 http://ppa.launchpad.net/c2d4u.team/c2d4u4.0+/ubuntu bionic/main Sources [1,822 kB]\n",
            "Get:15 http://ppa.launchpad.net/c2d4u.team/c2d4u4.0+/ubuntu bionic/main amd64 Packages [934 kB]\n",
            "Get:16 http://archive.ubuntu.com/ubuntu bionic-updates/restricted amd64 Packages [758 kB]\n",
            "Get:17 http://archive.ubuntu.com/ubuntu bionic-updates/main amd64 Packages [2,935 kB]\n",
            "Get:18 http://security.ubuntu.com/ubuntu bionic-security/main amd64 Packages [2,492 kB]\n",
            "Fetched 9,213 kB in 2s (4,391 kB/s)\n",
            "Reading package lists... Done\n"
          ]
        }
      ]
    },
    {
      "cell_type": "code",
      "metadata": {
        "id": "fXmhrWJrSlTa"
      },
      "source": [
        "!apt-get install openjdk-8-jdk-headless -qq > /dev/null\n",
        "!wget -q https://downloads.apache.org/spark/spark-3.2.0/spark-3.2.0-bin-hadoop3.2.tgz\n",
        "!tar xf spark-3.2.0-bin-hadoop3.2.tgz\n",
        "!pip install -q findspark"
      ],
      "execution_count": null,
      "outputs": []
    },
    {
      "cell_type": "code",
      "metadata": {
        "id": "cqsYe1iXSlTa"
      },
      "source": [
        "import os\n",
        "os.environ[\"JAVA_HOME\"] = \"/usr/lib/jvm/java-8-openjdk-amd64\"\n",
        "os.environ[\"SPARK_HOME\"] = \"/content/spark-3.2.0-bin-hadoop3.2\""
      ],
      "execution_count": null,
      "outputs": []
    },
    {
      "cell_type": "code",
      "metadata": {
        "id": "sLgcsWc0QwlT"
      },
      "source": [
        "import findspark\n",
        "findspark.init()\n",
        "from pyspark.sql import SparkSession"
      ],
      "execution_count": null,
      "outputs": []
    },
    {
      "cell_type": "code",
      "metadata": {
        "id": "vTaRa-M0QyMr"
      },
      "source": [
        "spark = SparkSession.builder.master(\"local[*]\").getOrCreate()"
      ],
      "execution_count": null,
      "outputs": []
    },
    {
      "cell_type": "code",
      "metadata": {
        "id": "7jVcbnvoQ40j"
      },
      "source": [
        "from pyspark.sql.types import LongType, StringType, StructField, StructType, BooleanType, ArrayType, IntegerType, DoubleType, FloatType\n",
        "import pyspark\n",
        "from pyspark.sql import functions as F,Window\n",
        "from pyspark.sql.functions import year, col, array, monotonically_increasing_id, to_json, struct, round, datediff,unix_timestamp,udf,avg\n",
        "import json\n",
        "from urllib.request import  urlopen\n",
        "import pyspark.sql.functions as F"
      ],
      "execution_count": null,
      "outputs": []
    },
    {
      "cell_type": "markdown",
      "source": [
        "## Load in test-day data"
      ],
      "metadata": {
        "id": "SRz7gOJeHzvJ"
      }
    },
    {
      "cell_type": "code",
      "metadata": {
        "id": "8lbCo7KpVrpP"
      },
      "source": [
        "spark_alldata_formatted= spark \\\n",
        "  .read \\\n",
        "  .parquet('/content/gdrive/Shared drives/Bovi-Analytics/Projects/ChenYongYan/Data/spark_alldata_formatted/')"
      ],
      "execution_count": null,
      "outputs": []
    },
    {
      "cell_type": "code",
      "metadata": {
        "colab": {
          "base_uri": "https://localhost:8080/"
        },
        "id": "lio--ecLJPvz",
        "outputId": "0e403013-6e31-47a6-a41a-face6a2e455a"
      },
      "source": [
        "spark_alldata_formatted.count()"
      ],
      "execution_count": null,
      "outputs": [
        {
          "output_type": "execute_result",
          "data": {
            "text/plain": [
              "159173868"
            ]
          },
          "metadata": {
            "tags": []
          },
          "execution_count": 16
        }
      ]
    },
    {
      "cell_type": "code",
      "metadata": {
        "id": "tQ3pGvIyJ4rI",
        "colab": {
          "base_uri": "https://localhost:8080/",
          "height": 444
        },
        "outputId": "67af9b9e-e13e-4b96-cf78-46bf483c5dd3"
      },
      "source": [
        "spark_alldata_formatted.printSchema()"
      ],
      "execution_count": null,
      "outputs": [
        {
          "output_type": "stream",
          "text": [
            "root\n",
            " |-- AnimalIdentifier: string (nullable = true)\n",
            " |-- BirthDate: date (nullable = true)\n",
            " |-- Parity: double (nullable = true)\n",
            " |-- CalvingDate: date (nullable = true)\n",
            " |-- BusinessType: string (nullable = true)\n",
            " |-- HerdIdentifier: integer (nullable = true)\n",
            " |-- Date: date (nullable = true)\n",
            " |-- MilkYieldKg: double (nullable = true)\n",
            " |-- FatPercentage: double (nullable = true)\n",
            " |-- ProteinPercentage: double (nullable = true)\n",
            " |-- SCC: double (nullable = true)\n",
            " |-- Urea: double (nullable = true)\n",
            " |-- LactosePercentage: double (nullable = true)\n",
            " |-- NumberOfMilkings: double (nullable = true)\n",
            " |-- StatusProduction: double (nullable = true)\n",
            " |-- StatusFictive: double (nullable = true)\n",
            " |-- StatusCow: double (nullable = true)\n",
            " |-- LactationValue: string (nullable = true)\n",
            " |-- DaysInMilk: double (nullable = true)\n",
            " |-- TestYear: integer (nullable = true)\n",
            " |-- AgeInDays: double (nullable = true)\n",
            " |-- FPCM: double (nullable = true)\n",
            "\n"
          ],
          "name": "stdout"
        }
      ]
    },
    {
      "cell_type": "code",
      "metadata": {
        "id": "hcfspcAVmvvt",
        "colab": {
          "base_uri": "https://localhost:8080/",
          "height": 232
        },
        "outputId": "82763031-876d-4010-f441-ffe61026f3ea"
      },
      "source": [
        "spark_alldata_formatted.show(5)"
      ],
      "execution_count": null,
      "outputs": [
        {
          "output_type": "stream",
          "text": [
            "+----------------+----------+------+-----------+------------+--------------+----------+-----------+-------------+-----------------+--------+----+-----------------+----------------+----------------+-------------+---------+--------------+----------+--------+---------+------------------+\n",
            "|AnimalIdentifier| BirthDate|Parity|CalvingDate|BusinessType|HerdIdentifier|      Date|MilkYieldKg|FatPercentage|ProteinPercentage|     SCC|Urea|LactosePercentage|NumberOfMilkings|StatusProduction|StatusFictive|StatusCow|LactationValue|DaysInMilk|TestYear|AgeInDays|              FPCM|\n",
            "+----------------+----------+------+-----------+------------+--------------+----------+-----------+-------------+-----------------+--------+----+-----------------+----------------+----------------+-------------+---------+--------------+----------+--------+---------+------------------+\n",
            "|   AT 0007841167|2013-10-13|   3.0| 2017-09-28|         UBN|       6601503|2017-12-09|       22.2|          3.5|             3.17| 11000.0| 4.0|             4.69|             2.0|             1.0|          0.0|      0.0|            81|      72.0|    2017|   1518.0|          20.71704|\n",
            "|   AT 0007841167|2013-10-13|   3.0| 2017-09-28|         UBN|       6601503|2018-01-25|       20.8|          4.4|             3.25| 36000.0| 9.0|             4.69|             2.0|             1.0|          0.0|      0.0|            82|     119.0|    2018|   1565.0|21.681920000000005|\n",
            "|   AT 0007841167|2013-10-13|   3.0| 2017-09-28|         UBN|       6601503|2018-03-16|       20.7|          4.0|             3.64| 48000.0|11.0|              4.7|             2.0|             1.0|          0.0|      0.0|            82|     169.0|    2018|   1615.0|21.101580000000002|\n",
            "|   AT 0007841167|2013-10-13|   3.0| 2017-09-28|         UBN|       6601503|2018-04-27|       20.5|         3.82|             3.64| 67000.0|23.0|             4.62|             2.0|             1.0|          0.0|      0.0|            81|     211.0|    2018|   1657.0|          20.46966|\n",
            "|   AT 0007841167|2013-10-13|   3.0| 2017-09-28|         UBN|       6601503|2018-06-16|       10.7|         3.58|             3.66|105000.0|19.0|             4.74|             2.0|             1.0|          0.0|      0.0|            76|     261.0|    2018|   1707.0|         10.399116|\n",
            "+----------------+----------+------+-----------+------------+--------------+----------+-----------+-------------+-----------------+--------+----+-----------------+----------------+----------------+-------------+---------+--------------+----------+--------+---------+------------------+\n",
            "only showing top 5 rows\n",
            "\n"
          ],
          "name": "stdout"
        }
      ]
    },
    {
      "cell_type": "markdown",
      "metadata": {
        "id": "pZvw1LWP4XVT"
      },
      "source": [
        "# Add filters"
      ]
    },
    {
      "cell_type": "markdown",
      "metadata": {
        "id": "irnEjSAvMM88"
      },
      "source": [
        "### step one _ herd level"
      ]
    },
    {
      "cell_type": "markdown",
      "metadata": {
        "id": "iz1gfPplND3T"
      },
      "source": [
        "herd level has been done in R"
      ]
    },
    {
      "cell_type": "code",
      "metadata": {
        "id": "eCkWMf-DNCjd"
      },
      "source": [
        "QualifiedHerd= spark \\\n",
        "  .read \\\n",
        "  .option(\"header\", \"true\")\\\n",
        "  .csv('/content/gdrive/Shared drives/Bovi-Analytics/Projects/ChenYongYan/Data/QualifiedHerd.csv')\\\n",
        "  .drop('_c0')"
      ],
      "execution_count": null,
      "outputs": []
    },
    {
      "cell_type": "code",
      "metadata": {
        "id": "COzRfPRmi1XN",
        "colab": {
          "base_uri": "https://localhost:8080/",
          "height": 88
        },
        "outputId": "421d0e7b-0978-4f06-d5d5-0763cd1fb1f6"
      },
      "source": [
        "QualifiedHerd.printSchema()"
      ],
      "execution_count": null,
      "outputs": [
        {
          "output_type": "stream",
          "text": [
            "root\n",
            " |-- HerdIdentifier: integer (nullable = true)\n",
            " |-- TestYear: integer (nullable = true)\n",
            "\n"
          ],
          "name": "stdout"
        }
      ]
    },
    {
      "cell_type": "code",
      "metadata": {
        "id": "145JA8VOi_RL"
      },
      "source": [
        "QualifiedHerd=QualifiedHerd.\\\n",
        "withColumn('TestYear',QualifiedHerd['TestYear'].cast(IntegerType())).\\\n",
        "withColumn('HerdIdentifier',QualifiedHerd['HerdIdentifier'].cast(IntegerType()))"
      ],
      "execution_count": null,
      "outputs": []
    },
    {
      "cell_type": "code",
      "metadata": {
        "id": "kNgv0Izd2_Qt",
        "colab": {
          "base_uri": "https://localhost:8080/",
          "height": 212
        },
        "outputId": "74274ee5-11b5-41d3-f132-efa5e55390a6"
      },
      "source": [
        "QualifiedHerd.show(5)"
      ],
      "execution_count": null,
      "outputs": [
        {
          "output_type": "stream",
          "text": [
            "+--------------+--------+\n",
            "|HerdIdentifier|TestYear|\n",
            "+--------------+--------+\n",
            "|           590|    2007|\n",
            "|           590|    2008|\n",
            "|           590|    2009|\n",
            "|           590|    2010|\n",
            "|           590|    2011|\n",
            "+--------------+--------+\n",
            "only showing top 5 rows\n",
            "\n"
          ],
          "name": "stdout"
        }
      ]
    },
    {
      "cell_type": "code",
      "metadata": {
        "id": "X8ynUlzU_Apd",
        "colab": {
          "base_uri": "https://localhost:8080/",
          "height": 124
        },
        "outputId": "b948871a-75b9-4e0f-c895-8be02e4675d7"
      },
      "source": [
        "QualifiedHerd.select(F.countDistinct(\"HerdIdentifier\")).show()"
      ],
      "execution_count": null,
      "outputs": [
        {
          "output_type": "stream",
          "text": [
            "+------------------------------+\n",
            "|count(DISTINCT HerdIdentifier)|\n",
            "+------------------------------+\n",
            "|                         17960|\n",
            "+------------------------------+\n",
            "\n"
          ],
          "name": "stdout"
        }
      ]
    },
    {
      "cell_type": "markdown",
      "metadata": {
        "id": "NPF4EJ1kL2wK"
      },
      "source": [
        "### step two_ cow level"
      ]
    },
    {
      "cell_type": "markdown",
      "metadata": {
        "id": "LZudB3l0hDAP"
      },
      "source": [
        "innerjoin with cow data"
      ]
    },
    {
      "cell_type": "code",
      "metadata": {
        "id": "z15HMN1DqFpw"
      },
      "source": [
        "spark_alldata_joined=spark_alldata_formatted.join(QualifiedHerd,['HerdIdentifier','TestYear'],'inner')"
      ],
      "execution_count": null,
      "outputs": []
    },
    {
      "cell_type": "code",
      "metadata": {
        "id": "M3NTiFRGiWQq",
        "colab": {
          "base_uri": "https://localhost:8080/",
          "height": 35
        },
        "outputId": "d8240919-fdf0-4040-8993-9f0211121498"
      },
      "source": [
        "spark_alldata_formatted.count()"
      ],
      "execution_count": null,
      "outputs": [
        {
          "output_type": "execute_result",
          "data": {
            "text/plain": [
              "159173868"
            ]
          },
          "metadata": {
            "tags": []
          },
          "execution_count": 48
        }
      ]
    },
    {
      "cell_type": "code",
      "metadata": {
        "id": "x6CVqtWfhm93",
        "colab": {
          "base_uri": "https://localhost:8080/",
          "height": 35
        },
        "outputId": "9af41be9-9aa8-4825-b008-d0be1e2a77a1"
      },
      "source": [
        "spark_alldata_joined.count()"
      ],
      "execution_count": null,
      "outputs": [
        {
          "output_type": "execute_result",
          "data": {
            "text/plain": [
              "152504375"
            ]
          },
          "metadata": {
            "tags": []
          },
          "execution_count": 27
        }
      ]
    },
    {
      "cell_type": "code",
      "metadata": {
        "id": "eV4BF-9x_TKV",
        "colab": {
          "base_uri": "https://localhost:8080/",
          "height": 124
        },
        "outputId": "3c38d91a-9cf0-4fee-b700-82cebb43c298"
      },
      "source": [
        "spark_alldata_formatted.select(F.countDistinct(\"HerdIdentifier\")).show()"
      ],
      "execution_count": null,
      "outputs": [
        {
          "output_type": "stream",
          "text": [
            "+------------------------------+\n",
            "|count(DISTINCT HerdIdentifier)|\n",
            "+------------------------------+\n",
            "|                         20760|\n",
            "+------------------------------+\n",
            "\n"
          ],
          "name": "stdout"
        }
      ]
    },
    {
      "cell_type": "code",
      "metadata": {
        "id": "8kXV64h__Jq7",
        "colab": {
          "base_uri": "https://localhost:8080/",
          "height": 124
        },
        "outputId": "cc778046-6be3-468f-87fa-9cb04a958c3a"
      },
      "source": [
        "spark_alldata_joined.select(F.countDistinct(\"HerdIdentifier\")).show()"
      ],
      "execution_count": null,
      "outputs": [
        {
          "output_type": "stream",
          "text": [
            "+------------------------------+\n",
            "|count(DISTINCT HerdIdentifier)|\n",
            "+------------------------------+\n",
            "|                         17960|\n",
            "+------------------------------+\n",
            "\n"
          ],
          "name": "stdout"
        }
      ]
    },
    {
      "cell_type": "markdown",
      "metadata": {
        "id": "Usg7YmWIhxs4"
      },
      "source": [
        "#####① Status"
      ]
    },
    {
      "cell_type": "code",
      "metadata": {
        "id": "m4XpEvZPSmfG"
      },
      "source": [
        "spark_alldata_filtered = spark_alldata_joined . \\\n",
        "  filter((col('ProteinPercentage')!=0.0) & \\\n",
        "      (col('FatPercentage') !=0.0) &\\\n",
        "      (col('StatusCow')==0) &\\\n",
        "      ((col('StatusProduction')==1) |(col('StatusProduction')==0 ))\n",
        "  )"
      ],
      "execution_count": null,
      "outputs": []
    },
    {
      "cell_type": "code",
      "metadata": {
        "id": "ExPOcoMy5_NO",
        "colab": {
          "base_uri": "https://localhost:8080/",
          "height": 35
        },
        "outputId": "0018945b-613b-4dcd-90c1-2acb1586b8ed"
      },
      "source": [
        "spark_alldata_filtered.agg(F.countDistinct(\"HerdIdentifier\"),F.countDistinct(\"AnimalIdentifier\")).collect()"
      ],
      "execution_count": null,
      "outputs": [
        {
          "output_type": "execute_result",
          "data": {
            "text/plain": [
              "[Row(count(DISTINCT HerdIdentifier)=17582, count(DISTINCT AnimalIdentifier)=5962324)]"
            ]
          },
          "metadata": {
            "tags": []
          },
          "execution_count": 16
        }
      ]
    },
    {
      "cell_type": "code",
      "metadata": {
        "id": "Pa2pS2zcNEAq",
        "colab": {
          "base_uri": "https://localhost:8080/",
          "height": 35
        },
        "outputId": "623a3e5c-ff38-42c1-c54d-294fe4e5d26b"
      },
      "source": [
        "spark_alldata_filtered.count()"
      ],
      "execution_count": null,
      "outputs": [
        {
          "output_type": "execute_result",
          "data": {
            "text/plain": [
              "143883847"
            ]
          },
          "metadata": {
            "tags": []
          },
          "execution_count": 50
        }
      ]
    },
    {
      "cell_type": "markdown",
      "metadata": {
        "id": "uPpNhMJXh1Vk"
      },
      "source": [
        "##### ② MY,Pro,Fat"
      ]
    },
    {
      "cell_type": "markdown",
      "metadata": {
        "id": "vtJD5jJvc_Cv"
      },
      "source": [
        "Calculate quantile"
      ]
    },
    {
      "cell_type": "code",
      "metadata": {
        "id": "sVRdjAoSbbm5",
        "colab": {
          "base_uri": "https://localhost:8080/",
          "height": 232
        },
        "outputId": "a05fa6b6-bd8f-4130-b491-cb44b9bc0cbb"
      },
      "source": [
        "spark_alldata_filtered.show(5)"
      ],
      "execution_count": null,
      "outputs": [
        {
          "output_type": "stream",
          "text": [
            "+--------------+--------+----------------+----------+------+-----------+------------+----------+-----------+-------------+-----------------+--------+----+-----------------+----------------+----------------+-------------+---------+--------------+----------+---------+------------------+\n",
            "|HerdIdentifier|TestYear|AnimalIdentifier| BirthDate|Parity|CalvingDate|BusinessType|      Date|MilkYieldKg|FatPercentage|ProteinPercentage|     SCC|Urea|LactosePercentage|NumberOfMilkings|StatusProduction|StatusFictive|StatusCow|LactationValue|DaysInMilk|AgeInDays|              FPCM|\n",
            "+--------------+--------+----------------+----------+------+-----------+------------+----------+-----------+-------------+-----------------+--------+----+-----------------+----------------+----------------+-------------+---------+--------------+----------+---------+------------------+\n",
            "|       6601503|    2017| AT 0007841167  |2013-10-13|   3.0| 2017-09-28|         UBN|2017-12-09|       22.2|          3.5|             3.17| 11000.0| 4.0|             4.69|             2.0|             1.0|          0.0|      0.0|            81|      72.0|   1518.0|          20.71704|\n",
            "|       6601503|    2018| AT 0007841167  |2013-10-13|   3.0| 2017-09-28|         UBN|2018-01-25|       20.8|          4.4|             3.25| 36000.0| 9.0|             4.69|             2.0|             1.0|          0.0|      0.0|            82|     119.0|   1565.0|21.681920000000005|\n",
            "|       6601503|    2018| AT 0007841167  |2013-10-13|   3.0| 2017-09-28|         UBN|2018-03-16|       20.7|          4.0|             3.64| 48000.0|11.0|              4.7|             2.0|             1.0|          0.0|      0.0|            82|     169.0|   1615.0|21.101580000000002|\n",
            "|       6601503|    2018| AT 0007841167  |2013-10-13|   3.0| 2017-09-28|         UBN|2018-04-27|       20.5|         3.82|             3.64| 67000.0|23.0|             4.62|             2.0|             1.0|          0.0|      0.0|            81|     211.0|   1657.0|          20.46966|\n",
            "|       6601503|    2018| AT 0007841167  |2013-10-13|   3.0| 2017-09-28|         UBN|2018-06-16|       10.7|         3.58|             3.66|105000.0|19.0|             4.74|             2.0|             1.0|          0.0|      0.0|            76|     261.0|   1707.0|         10.399116|\n",
            "+--------------+--------+----------------+----------+------+-----------+------------+----------+-----------+-------------+-----------------+--------+----+-----------------+----------------+----------------+-------------+---------+--------------+----------+---------+------------------+\n",
            "only showing top 5 rows\n",
            "\n"
          ],
          "name": "stdout"
        }
      ]
    },
    {
      "cell_type": "code",
      "metadata": {
        "id": "ZfrzEJhydEBp"
      },
      "source": [
        "QuantilesMilkYield = spark_alldata_filtered.agg(F.expr('percentile(MilkYieldKg,array(0.01,0.99))').alias('Q1')).select('Q1').collect()[0][0]\n",
        "QuantilesProteinPercentage = spark_alldata_filtered.agg(F.expr('percentile(ProteinPercentage,array(0.01,0.99))').alias('Q1')).select('Q1').collect()[0][0]\n",
        "QuantilesFatPercentage = spark_alldata_filtered.agg(F.expr('percentile(FatPercentage,array(0.01,0.99))').alias('Q1')).select('Q1').collect()[0][0]"
      ],
      "execution_count": null,
      "outputs": []
    },
    {
      "cell_type": "code",
      "metadata": {
        "id": "yt7l7RgFYSwJ",
        "colab": {
          "base_uri": "https://localhost:8080/",
          "height": 35
        },
        "outputId": "a3173b6b-544a-4369-9a5e-50a2d16c1de4"
      },
      "source": [
        "QuantilesMilkYield "
      ],
      "execution_count": null,
      "outputs": [
        {
          "output_type": "execute_result",
          "data": {
            "text/plain": [
              "[8.5, 50.0]"
            ]
          },
          "metadata": {
            "tags": []
          },
          "execution_count": 63
        }
      ]
    },
    {
      "cell_type": "code",
      "metadata": {
        "id": "4DohtKR9Zt0B",
        "colab": {
          "base_uri": "https://localhost:8080/",
          "height": 35
        },
        "outputId": "0dcea9d6-f7ef-4492-8140-ed98987a2852"
      },
      "source": [
        "QuantilesProteinPercentage"
      ],
      "execution_count": null,
      "outputs": [
        {
          "output_type": "execute_result",
          "data": {
            "text/plain": [
              "[2.8, 4.81]"
            ]
          },
          "metadata": {
            "tags": []
          },
          "execution_count": 64
        }
      ]
    },
    {
      "cell_type": "code",
      "metadata": {
        "id": "XIj1udLOZv-k",
        "colab": {
          "base_uri": "https://localhost:8080/",
          "height": 35
        },
        "outputId": "10318ee3-536f-42de-e9ca-c42ec50b0488"
      },
      "source": [
        "QuantilesFatPercentage"
      ],
      "execution_count": null,
      "outputs": [
        {
          "output_type": "execute_result",
          "data": {
            "text/plain": [
              "[2.93, 6.53]"
            ]
          },
          "metadata": {
            "tags": []
          },
          "execution_count": 65
        }
      ]
    },
    {
      "cell_type": "code",
      "metadata": {
        "id": "L8ceClB2Opwk"
      },
      "source": [
        "spark_alldata_filtered = spark_alldata_filtered. \\\n",
        "  filter((col('MilkYieldKg')<QuantilesMilkYield[1]) &\\\n",
        "      (col('ProteinPercentage')<QuantilesProteinPercentage[1]) &\\\n",
        "      (col('ProteinPercentage')>QuantilesProteinPercentage[0]) &\\\n",
        "      (col('FatPercentage')<QuantilesFatPercentage[1]) &\\\n",
        "      (col('FatPercentage')>QuantilesFatPercentage[0])  \n",
        "  )"
      ],
      "execution_count": null,
      "outputs": []
    },
    {
      "cell_type": "code",
      "metadata": {
        "id": "ys9cenmH6OPl",
        "colab": {
          "base_uri": "https://localhost:8080/",
          "height": 35
        },
        "outputId": "5232ce8f-44c4-4566-cb93-70b5abd4d4ef"
      },
      "source": [
        "spark_alldata_filtered.agg(F.countDistinct(\"HerdIdentifier\"),F.countDistinct(\"AnimalIdentifier\")).collect()"
      ],
      "execution_count": null,
      "outputs": [
        {
          "output_type": "execute_result",
          "data": {
            "text/plain": [
              "[Row(count(DISTINCT HerdIdentifier)=17582, count(DISTINCT AnimalIdentifier)=5940347)]"
            ]
          },
          "metadata": {
            "tags": []
          },
          "execution_count": 20
        }
      ]
    },
    {
      "cell_type": "code",
      "metadata": {
        "id": "Km51qosi5W0f",
        "colab": {
          "base_uri": "https://localhost:8080/",
          "height": 35
        },
        "outputId": "9eac94f8-af0c-4aaf-f652-8880daecbd0c"
      },
      "source": [
        "spark_alldata_filtered.count()"
      ],
      "execution_count": null,
      "outputs": [
        {
          "output_type": "execute_result",
          "data": {
            "text/plain": [
              "137166910"
            ]
          },
          "metadata": {
            "tags": []
          },
          "execution_count": 53
        }
      ]
    },
    {
      "cell_type": "markdown",
      "metadata": {
        "id": "b82F12dRh59J"
      },
      "source": [
        "#####③Parity"
      ]
    },
    {
      "cell_type": "code",
      "metadata": {
        "id": "FDf3uWW7iPoh"
      },
      "source": [
        "spark_alldata_filtered = spark_alldata_filtered.\\\n",
        "  filter((col('AgeInDays')/365 > col('Parity') ))"
      ],
      "execution_count": null,
      "outputs": []
    },
    {
      "cell_type": "code",
      "metadata": {
        "id": "Y03gR-Qt6eBd",
        "colab": {
          "base_uri": "https://localhost:8080/",
          "height": 35
        },
        "outputId": "992c3378-9e2f-4a6e-d724-ab38702cc0fa"
      },
      "source": [
        "spark_alldata_filtered.count()"
      ],
      "execution_count": null,
      "outputs": [
        {
          "output_type": "execute_result",
          "data": {
            "text/plain": [
              "137165667"
            ]
          },
          "metadata": {
            "tags": []
          },
          "execution_count": 23
        }
      ]
    },
    {
      "cell_type": "code",
      "metadata": {
        "id": "js7WdhTC6LDC",
        "colab": {
          "base_uri": "https://localhost:8080/",
          "height": 35
        },
        "outputId": "0aa79a23-5b86-4dfb-b795-d164fa97b6cd"
      },
      "source": [
        "spark_alldata_filtered.agg(F.countDistinct(\"HerdIdentifier\"),F.countDistinct(\"AnimalIdentifier\")).collect()"
      ],
      "execution_count": null,
      "outputs": [
        {
          "output_type": "execute_result",
          "data": {
            "text/plain": [
              "[Row(count(DISTINCT HerdIdentifier)=17582, count(DISTINCT AnimalIdentifier)=5940311)]"
            ]
          },
          "metadata": {
            "tags": []
          },
          "execution_count": 24
        }
      ]
    },
    {
      "cell_type": "markdown",
      "metadata": {
        "id": "19L-JWUJeKKz"
      },
      "source": [
        "Quantile AgeInDays per parity"
      ]
    },
    {
      "cell_type": "markdown",
      "metadata": {
        "id": "S16MUlecKTZF"
      },
      "source": [
        "List comprehension"
      ]
    },
    {
      "cell_type": "code",
      "metadata": {
        "id": "42J4hgQQglST"
      },
      "source": [
        "QuantilesAgeInDays=[(i, spark_alldata_filtered.filter((col('Parity')==i)).agg(F.expr('percentile(AgeInDays,array(0.01,0.99))').alias('Q1')).select('Q1').collect()[0][0]) for i in range(1,21)]"
      ],
      "execution_count": null,
      "outputs": []
    },
    {
      "cell_type": "code",
      "metadata": {
        "id": "lKJU_shwu1xT",
        "colab": {
          "base_uri": "https://localhost:8080/",
          "height": 372
        },
        "outputId": "f592a67b-1e1e-4da9-8133-aecdd6a03290"
      },
      "source": [
        "QuantilesAgeInDays"
      ],
      "execution_count": null,
      "outputs": [
        {
          "output_type": "execute_result",
          "data": {
            "text/plain": [
              "[(1, [723.0, 1441.0]),\n",
              " (2, [1084.0, 1932.0]),\n",
              " (3, [1447.0, 2421.0]),\n",
              " (4, [1810.0, 2895.0]),\n",
              " (5, [2174.0, 3361.0]),\n",
              " (6, [2538.0, 3820.0]),\n",
              " (7, [2903.0, 4279.0]),\n",
              " (8, [3268.0, 4742.0]),\n",
              " (9, [3630.0, 5197.260000000009]),\n",
              " (10, [3993.0, 5639.0]),\n",
              " (11, [4354.0, 6091.0]),\n",
              " (12, [4711.0, 6480.129999999997]),\n",
              " (13, [5066.99, 6957.0]),\n",
              " (14, [5431.780000000001, 7349.219999999999]),\n",
              " (15, [5760.599999999999, 7305.64]),\n",
              " (16, [6051.52, 8232.599999999999]),\n",
              " (17, [6593.73, 7858.12]),\n",
              " (18, [7034.679999999999, 7386.32]),\n",
              " (19, None),\n",
              " (20, None)]"
            ]
          },
          "metadata": {
            "tags": []
          },
          "execution_count": 108
        }
      ]
    },
    {
      "cell_type": "code",
      "metadata": {
        "id": "kez_7Lsujkmu",
        "colab": {
          "base_uri": "https://localhost:8080/",
          "height": 35
        },
        "outputId": "655d8d34-fd5b-417e-9a18-2ebae0a0c871"
      },
      "source": [
        "QuantilesAgeInDays[1][1]"
      ],
      "execution_count": null,
      "outputs": [
        {
          "output_type": "execute_result",
          "data": {
            "text/plain": [
              "[1084.0, 1932.0]"
            ]
          },
          "metadata": {
            "tags": []
          },
          "execution_count": 64
        }
      ]
    },
    {
      "cell_type": "code",
      "metadata": {
        "id": "2kIDIsqkntSz",
        "colab": {
          "base_uri": "https://localhost:8080/",
          "height": 35
        },
        "outputId": "5a484fa2-341e-4b10-c9c0-97b65161c695"
      },
      "source": [
        "QuantilesAgeInDays[1][1][1]"
      ],
      "execution_count": null,
      "outputs": [
        {
          "output_type": "execute_result",
          "data": {
            "text/plain": [
              "1932.0"
            ]
          },
          "metadata": {
            "tags": []
          },
          "execution_count": 65
        }
      ]
    },
    {
      "cell_type": "code",
      "metadata": {
        "id": "a8y1pUycg6gY"
      },
      "source": [
        "spark_alldata_filtered = spark_alldata_filtered.\\\n",
        "  filter(((col('Parity')==1)&(col('AgeInDays')>QuantilesAgeInDays[0][1][0])&(col('AgeInDays')<QuantilesAgeInDays[0][1][1]))|\\\n",
        "     ((col('Parity')==2)&(col('AgeInDays')>QuantilesAgeInDays[1][1][0])&(col('AgeInDays')<QuantilesAgeInDays[1][1][1]))|\\\n",
        "     ((col('Parity')==3)&(col('AgeInDays')>QuantilesAgeInDays[2][1][0])&(col('AgeInDays')<QuantilesAgeInDays[2][1][1]))|\\\n",
        "     ((col('Parity')==4)&(col('AgeInDays')>QuantilesAgeInDays[3][1][0])&(col('AgeInDays')<QuantilesAgeInDays[3][1][1]))|\\\n",
        "     ((col('Parity')==5)&(col('AgeInDays')>QuantilesAgeInDays[4][1][0])&(col('AgeInDays')<QuantilesAgeInDays[4][1][1]))|\\\n",
        "     ((col('Parity')==6)&(col('AgeInDays')>QuantilesAgeInDays[5][1][0])&(col('AgeInDays')<QuantilesAgeInDays[5][1][1]))|\\\n",
        "      ((col('Parity')==7)&(col('AgeInDays')>QuantilesAgeInDays[6][1][0])&(col('AgeInDays')<QuantilesAgeInDays[6][1][1]))|\\\n",
        "       ((col('Parity')==8)&(col('AgeInDays')>QuantilesAgeInDays[7][1][0])&(col('AgeInDays')<QuantilesAgeInDays[7][1][1]))|\\\n",
        "        ((col('Parity')==9)&(col('AgeInDays')>QuantilesAgeInDays[8][1][0])&(col('AgeInDays')<QuantilesAgeInDays[8][1][1]))|\\\n",
        "         ((col('Parity')==10)&(col('AgeInDays')>QuantilesAgeInDays[9][1][0])&(col('AgeInDays')<QuantilesAgeInDays[9][1][1]))|\\\n",
        "          ((col('Parity')==11)&(col('AgeInDays')>QuantilesAgeInDays[10][1][0])&(col('AgeInDays')<QuantilesAgeInDays[10][1][1]))|\\\n",
        "           ((col('Parity')==12)&(col('AgeInDays')>QuantilesAgeInDays[11][1][0])&(col('AgeInDays')<QuantilesAgeInDays[11][1][1]))|\\\n",
        "            ((col('Parity')==13)&(col('AgeInDays')>QuantilesAgeInDays[12][1][0])&(col('AgeInDays')<QuantilesAgeInDays[12][1][1]))|\\\n",
        "             ((col('Parity')==14)&(col('AgeInDays')>QuantilesAgeInDays[13][1][0])&(col('AgeInDays')<QuantilesAgeInDays[13][1][1]))|\\\n",
        "              ((col('Parity')==15)&(col('AgeInDays')>QuantilesAgeInDays[14][1][0])&(col('AgeInDays')<QuantilesAgeInDays[14][1][1]))|\\\n",
        "               ((col('Parity')==16)&(col('AgeInDays')>QuantilesAgeInDays[15][1][0])&(col('AgeInDays')<QuantilesAgeInDays[15][1][1]))|\\\n",
        "                ((col('Parity')==17)&(col('AgeInDays')>QuantilesAgeInDays[16][1][0])&(col('AgeInDays')<QuantilesAgeInDays[16][1][1]))|\\\n",
        "                 ((col('Parity')==18)&(col('AgeInDays')>QuantilesAgeInDays[17][1][0])&(col('AgeInDays')<QuantilesAgeInDays[17][1][1]))\n",
        "               \n",
        "  )"
      ],
      "execution_count": null,
      "outputs": []
    },
    {
      "cell_type": "code",
      "metadata": {
        "id": "p_EOGh2JVjtN",
        "colab": {
          "base_uri": "https://localhost:8080/",
          "height": 35
        },
        "outputId": "d6965dae-8628-4604-9430-159ca82c68ef"
      },
      "source": [
        "spark_alldata_filtered.agg(F.countDistinct(\"HerdIdentifier\"),F.countDistinct(\"AnimalIdentifier\")).collect()"
      ],
      "execution_count": null,
      "outputs": [
        {
          "output_type": "execute_result",
          "data": {
            "text/plain": [
              "[Row(count(DISTINCT HerdIdentifier)=17580, count(DISTINCT AnimalIdentifier)=5900893)]"
            ]
          },
          "metadata": {
            "tags": []
          },
          "execution_count": 71
        }
      ]
    },
    {
      "cell_type": "code",
      "metadata": {
        "id": "6jG7wWsdu8Ks",
        "colab": {
          "base_uri": "https://localhost:8080/",
          "height": 35
        },
        "outputId": "8963a733-9b2e-4b0c-c025-1e2fe60f034a"
      },
      "source": [
        "spark_alldata_filtered.count()"
      ],
      "execution_count": null,
      "outputs": [
        {
          "output_type": "execute_result",
          "data": {
            "text/plain": [
              "134096231"
            ]
          },
          "metadata": {
            "tags": []
          },
          "execution_count": 28
        }
      ]
    },
    {
      "cell_type": "markdown",
      "metadata": {
        "id": "Qi_OFT0tMBT9"
      },
      "source": [
        "### step three_lactation level"
      ]
    },
    {
      "cell_type": "markdown",
      "metadata": {
        "id": "c_YEnHpmeAsy"
      },
      "source": [
        "#### DaysInMilk"
      ]
    },
    {
      "cell_type": "code",
      "metadata": {
        "id": "mXn9ZQrQeaJX"
      },
      "source": [
        "QuantilesDaysInMilk = spark_alldata_filtered.agg(F.expr('percentile(DaysInMilk,array(0.01,0.99))').alias('Q1')).select('Q1').collect()[0][0]"
      ],
      "execution_count": null,
      "outputs": []
    },
    {
      "cell_type": "code",
      "metadata": {
        "id": "ylKbo5HRePqO"
      },
      "source": [
        "spark_alldata_filtered = spark_alldata_filtered. \\\n",
        "  filter((col('DaysInMilk')<QuantilesDaysInMilk[1]))"
      ],
      "execution_count": null,
      "outputs": []
    },
    {
      "cell_type": "code",
      "metadata": {
        "id": "4Qu8CMTp6pE8",
        "colab": {
          "base_uri": "https://localhost:8080/",
          "height": 35
        },
        "outputId": "27c4bf61-38c2-4f0b-cbe6-27a41f1274f7"
      },
      "source": [
        "spark_alldata_filtered.agg(F.countDistinct(\"HerdIdentifier\"),F.countDistinct(\"AnimalIdentifier\")).collect()"
      ],
      "execution_count": null,
      "outputs": [
        {
          "output_type": "execute_result",
          "data": {
            "text/plain": [
              "[Row(count(DISTINCT HerdIdentifier)=17580, count(DISTINCT AnimalIdentifier)=5894719)]"
            ]
          },
          "metadata": {
            "tags": []
          },
          "execution_count": 31
        }
      ]
    },
    {
      "cell_type": "code",
      "metadata": {
        "id": "uupKGn43Hc22",
        "colab": {
          "base_uri": "https://localhost:8080/",
          "height": 35
        },
        "outputId": "b1e450df-42d7-4311-924b-da3eba8f2878"
      },
      "source": [
        "spark_alldata_filtered.count()"
      ],
      "execution_count": null,
      "outputs": [
        {
          "output_type": "execute_result",
          "data": {
            "text/plain": [
              "132737234"
            ]
          },
          "metadata": {
            "tags": []
          },
          "execution_count": 95
        }
      ]
    },
    {
      "cell_type": "markdown",
      "metadata": {
        "id": "oiJlw_9zeEzP"
      },
      "source": [
        "#### CalvingInterval"
      ]
    },
    {
      "cell_type": "markdown",
      "source": [
        "Keep the last record for each lactation and then calculate calving interval"
      ],
      "metadata": {
        "id": "sNyqv7FaAzrE"
      }
    },
    {
      "cell_type": "code",
      "metadata": {
        "id": "Lkl_bjOjd-GL"
      },
      "source": [
        "dfc=spark_alldata_filtered.select('AnimalIdentifier','Parity','CalvingDate').drop_duplicates()\n",
        "\n",
        "import pyspark.sql.functions as F\n",
        "from pyspark.sql import Window\n",
        "\n",
        "w=Window.partitionBy('AnimalIdentifier').\\\n",
        "  orderBy(F.asc('Parity'))\n",
        "\n",
        "dfc1=dfc.withColumn('CalvingInterval',\\\n",
        "  F.datediff(dfc.CalvingDate,F.lag(dfc.CalvingDate,1).over(w)))"
      ],
      "execution_count": null,
      "outputs": []
    },
    {
      "cell_type": "code",
      "metadata": {
        "id": "k_5RVVhTlEur",
        "colab": {
          "base_uri": "https://localhost:8080/",
          "height": 479
        },
        "outputId": "df43d7b3-08cc-4ede-d0b8-4458f7f2e7f7"
      },
      "source": [
        "dfc1.show()"
      ],
      "execution_count": null,
      "outputs": [
        {
          "output_type": "stream",
          "text": [
            "+----------------+------+-----------+---------------+\n",
            "|AnimalIdentifier|Parity|CalvingDate|CalvingInterval|\n",
            "+----------------+------+-----------+---------------+\n",
            "|   AT 5378120161|   2.0| 2017-02-23|           null|\n",
            "|   AT 5378120161|   3.0| 2018-05-08|            439|\n",
            "|   AT 5378120161|   4.0| 2019-04-10|            337|\n",
            "|   AT 9200602075|   2.0| 2013-04-17|           null|\n",
            "|   AT 9200602075|   3.0| 2014-08-29|            499|\n",
            "|   AT 9200602075|   4.0| 2015-07-26|            331|\n",
            "|   BE 1136242476|   1.0| 2019-10-16|           null|\n",
            "|   BE 4712646635|   1.0| 2007-08-29|           null|\n",
            "|   BE 4712646635|   2.0| 2008-10-07|            405|\n",
            "|   BE 4712646635|   3.0| 2010-01-03|            453|\n",
            "|   BE 4712646635|   4.0| 2011-03-12|            433|\n",
            "|   BE 4712646635|   5.0| 2012-04-27|            412|\n",
            "|   BE 4712646635|   6.0| 2013-07-25|            454|\n",
            "|   BE 4712646635|   7.0| 2016-01-02|            891|\n",
            "|   BE 4712646635|   8.0| 2017-05-24|            508|\n",
            "|   BE 4712646635|   9.0| 2018-06-27|            399|\n",
            "|   BE 7566872670|   1.0| 2019-02-07|           null|\n",
            "|   BE 8420665767|   1.0| 2006-12-06|           null|\n",
            "|   BE 8420665767|   2.0| 2008-03-21|            471|\n",
            "|   BE 8420665767|   3.0| 2009-05-24|            429|\n",
            "+----------------+------+-----------+---------------+\n",
            "only showing top 20 rows\n",
            "\n"
          ],
          "name": "stdout"
        }
      ]
    },
    {
      "cell_type": "code",
      "metadata": {
        "id": "I_EEB0cWlgwL"
      },
      "source": [
        "QuantilesCalvingInterval = dfc1.agg(F.expr('percentile(CalvingInterval,array(0.01,0.99))').alias('Q1')).select('Q1').collect()[0][0]"
      ],
      "execution_count": null,
      "outputs": []
    },
    {
      "cell_type": "code",
      "metadata": {
        "id": "G2S0A8yclC06",
        "colab": {
          "base_uri": "https://localhost:8080/",
          "height": 35
        },
        "outputId": "53d08f2d-9ee5-4a78-87f0-0e958bd1c2f5"
      },
      "source": [
        "QuantilesCalvingInterval"
      ],
      "execution_count": null,
      "outputs": [
        {
          "output_type": "execute_result",
          "data": {
            "text/plain": [
              "[314.0, 695.0]"
            ]
          },
          "metadata": {
            "tags": []
          },
          "execution_count": 86
        }
      ]
    },
    {
      "cell_type": "code",
      "metadata": {
        "id": "NsnN9wbuLcl6",
        "colab": {
          "base_uri": "https://localhost:8080/",
          "height": 35
        },
        "outputId": "eccbba8d-aa5d-4c2b-d7de-cf21d1cb4ad6"
      },
      "source": [
        "dfc1.count()"
      ],
      "execution_count": null,
      "outputs": [
        {
          "output_type": "execute_result",
          "data": {
            "text/plain": [
              "16772035"
            ]
          },
          "metadata": {
            "tags": []
          },
          "execution_count": 116
        }
      ]
    },
    {
      "cell_type": "markdown",
      "metadata": {
        "id": "GXHSf77Ngc8i"
      },
      "source": [
        "first merge then quantile"
      ]
    },
    {
      "cell_type": "code",
      "metadata": {
        "id": "_mOFtXw1gfdA"
      },
      "source": [
        "spark_alldata_filtered=spark_alldata_filtered.join(dfc1,['AnimalIdentifier','Parity','CalvingDate'],'inner')"
      ],
      "execution_count": null,
      "outputs": []
    },
    {
      "cell_type": "code",
      "metadata": {
        "id": "K6BLtoQpgkmF"
      },
      "source": [
        "QuantilesCalvingInterval = spark_alldata_filtered.agg(F.expr('percentile(CalvingInterval,array(0.01,0.99))').alias('Q1')).select('Q1').collect()[0][0]"
      ],
      "execution_count": null,
      "outputs": []
    },
    {
      "cell_type": "code",
      "metadata": {
        "id": "Rt_ROXm5vyqn",
        "colab": {
          "base_uri": "https://localhost:8080/",
          "height": 35
        },
        "outputId": "89209569-bdf5-42d3-ac8d-5f1389ace571"
      },
      "source": [
        "QuantilesCalvingInterval"
      ],
      "execution_count": null,
      "outputs": [
        {
          "output_type": "execute_result",
          "data": {
            "text/plain": [
              "[316.0, 683.0]"
            ]
          },
          "metadata": {
            "tags": []
          },
          "execution_count": 117
        }
      ]
    },
    {
      "cell_type": "code",
      "metadata": {
        "id": "ymOKnlB7gzW3"
      },
      "source": [
        "spark_alldata_filtered=spark_alldata_filtered.filter((col('CalvingInterval')<QuantilesCalvingInterval[1])&\\\n",
        "      (col('CalvingInterval')>QuantilesCalvingInterval[0])|\\\n",
        "      col('CalvingInterval').isNull())"
      ],
      "execution_count": null,
      "outputs": []
    },
    {
      "cell_type": "code",
      "metadata": {
        "id": "GZerziJpziLG",
        "colab": {
          "base_uri": "https://localhost:8080/",
          "height": 35
        },
        "outputId": "ad05e411-1f3f-44c5-8adf-7536ba3e6f9e"
      },
      "source": [
        "spark_alldata_filtered.agg(F.countDistinct(\"HerdIdentifier\"),F.countDistinct(\"AnimalIdentifier\")).collect()"
      ],
      "execution_count": null,
      "outputs": [
        {
          "output_type": "execute_result",
          "data": {
            "text/plain": [
              "[Row(count(DISTINCT HerdIdentifier)=17580, count(DISTINCT AnimalIdentifier)=5894719)]"
            ]
          },
          "metadata": {
            "tags": []
          },
          "execution_count": 121
        }
      ]
    },
    {
      "cell_type": "code",
      "metadata": {
        "id": "HMABMTDZDNMa",
        "colab": {
          "base_uri": "https://localhost:8080/",
          "height": 35
        },
        "outputId": "586ee5d8-ac19-4853-a542-21fd8f7efd1b"
      },
      "source": [
        "spark_alldata_filtered.count()"
      ],
      "execution_count": null,
      "outputs": [
        {
          "output_type": "execute_result",
          "data": {
            "text/plain": [
              "130939857"
            ]
          },
          "metadata": {
            "tags": []
          },
          "execution_count": 30
        }
      ]
    },
    {
      "cell_type": "code",
      "metadata": {
        "id": "Mt-_VNycMpim",
        "colab": {
          "base_uri": "https://localhost:8080/",
          "height": 499
        },
        "outputId": "a2a01510-36d7-4b72-db8f-39dff37c1670"
      },
      "source": [
        "spark_alldata_filtered.show()"
      ],
      "execution_count": null,
      "outputs": [
        {
          "output_type": "stream",
          "text": [
            "+----------------+------+-----------+--------------+--------+----------+------------+----------+-----------+-------------+-----------------+--------+----+-----------------+----------------+----------------+-------------+---------+--------------+----------+---------+------------------+---------------+\n",
            "|AnimalIdentifier|Parity|CalvingDate|HerdIdentifier|TestYear| BirthDate|BusinessType|      Date|MilkYieldKg|FatPercentage|ProteinPercentage|     SCC|Urea|LactosePercentage|NumberOfMilkings|StatusProduction|StatusFictive|StatusCow|LactationValue|DaysInMilk|AgeInDays|              FPCM|CalvingInterval|\n",
            "+----------------+------+-----------+--------------+--------+----------+------------+----------+-----------+-------------+-----------------+--------+----+-----------------+----------------+----------------+-------------+---------+--------------+----------+---------+------------------+---------------+\n",
            "| AT 0107399618  |   2.0| 2008-11-20|       1552346|    2008|2005-09-26|         UBN|2008-12-09|       32.7|         4.78|              3.3| 48000.0| 0.0|             4.57|             9.0|             1.0|          0.0|      0.0|            93|      19.0|   1170.0|         35.625996|            368|\n",
            "| AT 0107399618  |   2.0| 2008-11-20|       1552346|    2009|2005-09-26|         UBN|2009-03-09|       27.9|         4.39|             3.59|134000.0| 0.0|             4.55|             9.0|             1.0|          0.0|      0.0|            93|     109.0|   1260.0|29.619756000000002|            368|\n",
            "| AT 0107399618  |   2.0| 2008-11-20|       1552346|    2009|2005-09-26|         UBN|2009-04-29|       21.5|         4.56|             3.44|137000.0| 0.0|             4.46|             9.0|             1.0|          0.0|      0.0|            84|     160.0|   1311.0|          23.05574|            368|\n",
            "| AT 0107399618  |   2.0| 2008-11-20|       1552346|    2009|2005-09-26|         UBN|2009-06-10|       18.2|         4.85|             3.71|131000.0| 0.0|             4.44|             9.0|             1.0|          0.0|      0.0|            81|     202.0|   1353.0|20.424039999999998|            368|\n",
            "| AT 0107399618  |   2.0| 2008-11-20|       1552346|    2009|2005-09-26|         UBN|2009-07-19|       18.3|         4.96|             3.59| 82000.0| 0.0|             4.36|             9.0|             1.0|          0.0|      0.0|            82|     241.0|   1392.0|20.638008000000003|            368|\n",
            "| AT 0107399618  |   2.0| 2008-11-20|       1552346|    2009|2005-09-26|         UBN|2009-09-04|       16.0|         4.69|             3.75|137000.0| 0.0|             4.47|             9.0|             1.0|          0.0|      0.0|            81|     288.0|   1439.0|17.696640000000002|            368|\n",
            "| AT 0107399618  |   2.0| 2008-11-20|       1552346|    2009|2005-09-26|         UBN|2009-10-21|       12.3|         5.05|             3.92| 87000.0| 0.0|             4.25|             9.0|             1.0|          0.0|      0.0|            84|     335.0|   1486.0|14.243400000000003|            368|\n",
            "| AT 3191400638  |   2.0| 2015-06-27|       8572959|    2015|2012-02-06|         UBN|2015-08-08|       28.2|         3.29|             3.06|  7000.0| 0.0|             4.55|             9.0|             1.0|          0.0|      0.0|            86|      42.0|   1279.0|         25.443168|            330|\n",
            "| AT 3191400638  |   2.0| 2015-06-27|       8572959|    2015|2012-02-06|         UBN|2015-09-04|       26.4|         4.03|              3.4| 11000.0| 0.0|             4.79|             9.0|             1.0|          0.0|      0.0|            90|      69.0|   1306.0|         26.623872|            330|\n",
            "| AT 3191400638  |   2.0| 2015-06-27|       8572959|    2015|2012-02-06|         UBN|2015-10-02|       24.0|         4.45|             3.47| 35000.0| 0.0|             4.64|             9.0|             1.0|          0.0|      0.0|            92|      97.0|   1334.0|25.473599999999998|            330|\n",
            "| AT 3191400638  |   2.0| 2015-06-27|       8572959|    2015|2012-02-06|         UBN|2015-10-30|       23.0|         4.69|             3.74| 29000.0| 0.0|             4.58|             9.0|             1.0|          0.0|      0.0|            95|     125.0|   1362.0|          25.42512|            330|\n",
            "| AT 3191400638  |   2.0| 2015-06-27|       8572959|    2015|2012-02-06|         UBN|2015-12-02|       20.2|         4.65|             3.56| 22000.0|14.0|             4.59|             9.0|             1.0|          0.0|      0.0|            93|     158.0|   1395.0|            22.018|            330|\n",
            "| AT 3191400638  |   2.0| 2015-06-27|       8572959|    2016|2012-02-06|         UBN|2016-01-06|       21.4|         5.03|             3.63| 26000.0|31.0|             4.72|             9.0|             1.0|          0.0|      0.0|            94|     193.0|   1430.0|24.359192000000004|            330|\n",
            "| AT 3191400638  |   2.0| 2015-06-27|       8572959|    2016|2012-02-06|         UBN|2016-02-04|       18.4|         5.02|             3.57| 34000.0|30.0|              4.6|             9.0|             1.0|          0.0|      0.0|            93|     222.0|   1459.0|20.856767999999995|            330|\n",
            "| AT 3191400638  |   2.0| 2015-06-27|       8572959|    2016|2012-02-06|         UBN|2016-03-02|       13.9|         4.79|             3.77| 17000.0|31.0|             4.78|             9.0|             1.0|          0.0|      0.0|            92|     249.0|   1486.0|15.551876000000002|            330|\n",
            "| AT 3191400638  |   2.0| 2015-06-27|       8572959|    2016|2012-02-06|         UBN|2016-04-04|       13.3|          4.8|             4.27|109000.0|37.0|              5.1|             9.0|             1.0|          0.0|      0.0|            90|     282.0|   1519.0|            15.295|            330|\n",
            "| AT 7046672596  |   3.0| 2008-12-22|       7456977|    2009|2004-08-26|         UBN|2009-01-13|       39.0|         4.72|              3.2| 11000.0| 0.0|              4.8|             2.0|             0.0|          0.0|      0.0|            93|      22.0|   1601.0|          41.98428|            368|\n",
            "| AT 7046672596  |   3.0| 2008-12-22|       7456977|    2009|2004-08-26|         UBN|2009-02-12|       36.8|         4.32|             3.06| 13000.0| 0.0|             4.68|             2.0|             0.0|          0.0|      0.0|            89|      52.0|   1631.0|37.599295999999995|            368|\n",
            "| AT 7046672596  |   3.0| 2008-12-22|       7456977|    2009|2004-08-26|         UBN|2009-03-18|       35.0|         4.06|             3.11| 22000.0| 0.0|              4.8|             2.0|             0.0|          0.0|      0.0|            88|      86.0|   1665.0|           34.8096|            368|\n",
            "| AT 7046672596  |   3.0| 2008-12-22|       7456977|    2009|2004-08-26|         UBN|2009-04-17|       33.4|         4.17|             3.33| 13000.0| 0.0|             4.71|             2.0|             0.0|          0.0|      0.0|            97|     116.0|   1695.0|         34.085368|            368|\n",
            "+----------------+------+-----------+--------------+--------+----------+------------+----------+-----------+-------------+-----------------+--------+----+-----------------+----------------+----------------+-------------+---------+--------------+----------+---------+------------------+---------------+\n",
            "only showing top 20 rows\n",
            "\n"
          ],
          "name": "stdout"
        }
      ]
    },
    {
      "cell_type": "code",
      "metadata": {
        "id": "9IMg9r3-2bqb"
      },
      "source": [
        "spark_alldata_filtered.describe().show()"
      ],
      "execution_count": null,
      "outputs": []
    },
    {
      "cell_type": "code",
      "metadata": {
        "id": "0uWYkzQDfIXD"
      },
      "source": [
        "spark_alldata_filtered.\\\n",
        "  repartition(1).\\\n",
        "  write.\\\n",
        "  parquet(path='/content/gdrive/Shared drives/Bovi-Analytics/Projects/ChenYongYan/Data/spark_alldata_filtered/',mode=\"overwrite\")"
      ],
      "execution_count": null,
      "outputs": []
    }
  ]
}